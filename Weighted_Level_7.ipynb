{
 "cells": [
  {
   "cell_type": "markdown",
   "metadata": {
    "id": "Q2tED-PnoYoo"
   },
   "source": [
    "In this notebook we present how we computed a level 7 model that uses a custom binary crossentropy loss and predicted outputs from the test images by using rotations"
   ]
  },
  {
   "cell_type": "code",
   "execution_count": null,
   "metadata": {
    "colab": {
     "base_uri": "https://localhost:8080/"
    },
    "executionInfo": {
     "elapsed": 2017,
     "status": "ok",
     "timestamp": 1608209513566,
     "user": {
      "displayName": "Marc Egli",
      "photoUrl": "https://lh3.googleusercontent.com/a-/AOh14GgqEkwOcTNql6vqzMNvYt9RFBkU1X7OFPy6WvHNdw=s64",
      "userId": "07944833463385027445"
     },
     "user_tz": -60
    },
    "id": "moyXqyvxo9Dp",
    "outputId": "2bba0adc-7035-4bc5-e834-06f94fe48b16"
   },
   "outputs": [
    {
     "name": "stdout",
     "output_type": "stream",
     "text": [
      "Mounted at /content/gdrive\n"
     ]
    }
   ],
   "source": [
    "from google.colab import drive\n",
    "import os\n",
    "import re\n",
    "import numpy as np\n",
    "from skimage import io\n",
    "import cv2\n",
    "from tqdm.notebook import tqdm\n",
    "from imgaug import augmenters as iaa\n",
    "\n",
    "drive.mount(\"/content/gdrive\", force_remount=True)\n",
    "\n",
    "drive_path = \"/content/gdrive/MyDrive/Project-KLM/\" \n",
    "os.chdir(drive_path)"
   ]
  },
  {
   "cell_type": "code",
   "execution_count": null,
   "metadata": {
    "id": "lFMw-YkO4E_K"
   },
   "outputs": [],
   "source": [
    "from libs.models import *\n",
    "from libs.ImageGen import *\n",
    "from libs.sliding_window import *\n",
    "from libs.post_process import *\n",
    "from libs.threshold import *\n",
    "from libs.submission import *\n",
    "from libs.augmentation import *"
   ]
  },
  {
   "cell_type": "code",
   "execution_count": null,
   "metadata": {
    "colab": {
     "base_uri": "https://localhost:8080/"
    },
    "executionInfo": {
     "elapsed": 3812,
     "status": "ok",
     "timestamp": 1608209517008,
     "user": {
      "displayName": "Marc Egli",
      "photoUrl": "https://lh3.googleusercontent.com/a-/AOh14GgqEkwOcTNql6vqzMNvYt9RFBkU1X7OFPy6WvHNdw=s64",
      "userId": "07944833463385027445"
     },
     "user_tz": -60
    },
    "id": "RMp9jqZv4E7Q",
    "outputId": "224c9d2e-e29f-4ce3-a793-6bf653405845"
   },
   "outputs": [
    {
     "name": "stdout",
     "output_type": "stream",
     "text": [
      "Found 80 images belonging to 1 classes.\n",
      "Found 80 images belonging to 1 classes.\n",
      "Found 20 images belonging to 1 classes.\n",
      "Found 20 images belonging to 1 classes.\n"
     ]
    }
   ],
   "source": [
    "#Parameters to load the data\n",
    "input_dir = \"training/images\"\n",
    "target_dir = \"training/groundtruth/\"\n",
    "img_size = (400, 400) #Don't edit size\n",
    "batch_size = 100\n",
    "seed = 10\n",
    "\n",
    "#Don't apply any data augmentation here, we just load the pictures in RAM\n",
    "grayscale_x = False\n",
    "crop_length = None \n",
    "aug_gen_args = {'validation_split' : 0.2}  #Only param is validation 80/20 split\n",
    "\n",
    "#Load the data (80 training images, 20 validation images)\n",
    "imgen = ImageGenerator(input_dir, target_dir, aug_gen_args, seed, img_size, batch_size, grayscale_x, force_batch_size=False)\n",
    "train_gen, valid_gen = imgen.get_normal_generator()\n",
    "train_x, train_y = next(train_gen)\n",
    "valid_x, valid_y = next(valid_gen)"
   ]
  },
  {
   "cell_type": "markdown",
   "metadata": {
    "id": "gz3GroikBEgZ"
   },
   "source": [
    "# Augmenting validations set"
   ]
  },
  {
   "cell_type": "code",
   "execution_count": null,
   "metadata": {
    "colab": {
     "base_uri": "https://localhost:8080/"
    },
    "executionInfo": {
     "elapsed": 1754,
     "status": "ok",
     "timestamp": 1608209532660,
     "user": {
      "displayName": "Marc Egli",
      "photoUrl": "https://lh3.googleusercontent.com/a-/AOh14GgqEkwOcTNql6vqzMNvYt9RFBkU1X7OFPy6WvHNdw=s64",
      "userId": "07944833463385027445"
     },
     "user_tz": -60
    },
    "id": "AeFyL1IfrpqF",
    "outputId": "42e988e6-a34f-42b9-e877-5a456ab08dee"
   },
   "outputs": [
    {
     "name": "stdout",
     "output_type": "stream",
     "text": [
      "Validation batches are of shape:\n"
     ]
    },
    {
     "data": {
      "text/plain": [
       "((16, 256, 256, 3), (16, 256, 256, 1))"
      ]
     },
     "execution_count": 6,
     "metadata": {
      "tags": []
     },
     "output_type": "execute_result"
    }
   ],
   "source": [
    "# set seed for reprodubility and retrieve (new) data to serve as validation\n",
    "np.random.seed(seed)\n",
    "new_x, new_y = apply_augments(valid_x), apply_augments(valid_y)\n",
    "\n",
    "# validation set on pred_n = 96 images out of the 240 which result from the flips and rotations\n",
    "pred_n = 96\n",
    "selected_indices = np.random.randint(0,len(new_x),pred_n)\n",
    "new_x, new_y = new_x[selected_indices], new_y[selected_indices]\n",
    "\n",
    "cropper = iaa.Sequential([iaa.size.CropToFixedSize(width=256,height=256,random_state=1)])\n",
    "cropped_x = cropper.augment_images(new_x)\n",
    "\n",
    "cropper = iaa.Sequential([iaa.size.CropToFixedSize(width=256,height=256,random_state=1)])\n",
    "cropped_y = cropper.augment_images(new_y)\n",
    "\n",
    "# create batches from selected validation set\n",
    "def chunks(l, n):\n",
    "    \"\"\"Yield successive n-sized chunks from l.\"\"\"\n",
    "    for i in range(0, len(l), n):\n",
    "        yield l[i:i + n]\n",
    "\n",
    "batched_x = [np.stack(x) for x in chunks(cropped_x,16)]\n",
    "batched_y = [np.stack(y) for y in chunks(cropped_y,16)]\n",
    "\n",
    "valid_cropped = (batched_x,batched_y)\n",
    "\n",
    "print(\"Validation batches are of shape:\")\n",
    "batched_x[0].shape, batched_y[0].shape"
   ]
  },
  {
   "cell_type": "markdown",
   "metadata": {
    "id": "YNIdqNvWBNrw"
   },
   "source": [
    "# Data Augmentation Parameters"
   ]
  },
  {
   "cell_type": "code",
   "execution_count": null,
   "metadata": {
    "id": "oW_-3mjKoYop"
   },
   "outputs": [],
   "source": [
    "aug_gen_args = {\n",
    "    'rotation_range' : 90,\n",
    "    'width_shift_range' : 0.2,\n",
    "    'height_shift_range' : 0.2,\n",
    "    'horizontal_flip' : False,\n",
    "    'vertical_flip' : False,\n",
    "}"
   ]
  },
  {
   "cell_type": "markdown",
   "metadata": {
    "id": "54xwWTfbKdZF"
   },
   "source": [
    "## Binary Cross Entropy Loss"
   ]
  },
  {
   "cell_type": "code",
   "execution_count": null,
   "metadata": {
    "id": "7rJ4x1-ZKc7h"
   },
   "outputs": [],
   "source": [
    "#@title Definition of closure for Weighted Binary Cross Entropy\n",
    "def create_weighted_binary_cross_entropy(zero_weight, one_weight):\n",
    "  def weighted_binary_crossentropy(y_true, y_pred):\n",
    "          # Calculate the binary crossentropy\n",
    "          b_ce = K.binary_crossentropy(y_true, y_pred)\n",
    "\n",
    "          # Apply the weights\n",
    "          weight_vector = y_true * one_weight + (1. - y_true) * zero_weight\n",
    "          weighted_b_ce = weight_vector * b_ce\n",
    "\n",
    "          # Return the mean error\n",
    "          return K.mean(weighted_b_ce)\n",
    "\n",
    "  return weighted_binary_crossentropy"
   ]
  },
  {
   "cell_type": "code",
   "execution_count": null,
   "metadata": {
    "id": "clPWYPxLKzY4"
   },
   "outputs": [],
   "source": [
    "loss = create_weighted_binary_cross_entropy(0.45,0.55)"
   ]
  },
  {
   "cell_type": "markdown",
   "metadata": {
    "id": "C9es9QvQBSTi"
   },
   "source": [
    "# Model computation"
   ]
  },
  {
   "cell_type": "markdown",
   "metadata": {
    "id": "_guuWT0oBXM6"
   },
   "source": [
    "## Training of a Level 7 model"
   ]
  },
  {
   "cell_type": "code",
   "execution_count": null,
   "metadata": {
    "id": "whKLQ9SD5BNd"
   },
   "outputs": [],
   "source": [
    "from multiprocessing import Process,Value\n",
    "from IPython.display import clear_output\n",
    "from tensorflow.keras.metrics import Recall, Precision\n",
    "from keras import backend as K\n",
    "import sys\n",
    "\n",
    "EPOCHS = 30\n",
    "STEPS_PER_EPOCH = 250\n",
    "\n",
    "def evaluate_model(i,stdout) :\n",
    "  sys.stdout = stdout\n",
    "  #We use a different seed for each model\n",
    "  seed = random.randint(0,2**32 -1 )\n",
    "  datagen = ImageDataGenerator(**aug_gen_args)\n",
    "  train_image_gen = datagen.flow(train_x,seed=seed,batch_size=16)\n",
    "  train_mask_gen  = datagen.flow(train_y,seed=seed,batch_size=16)\n",
    "  train_gen = zip(train_image_gen, train_mask_gen)\n",
    "  train_gen = crop_generator(train_gen, 256,seed)\n",
    "  \n",
    "  print('Creating model')\n",
    "  callbacks = []\n",
    "  callbacks.append(tf.keras.callbacks.EarlyStopping(monitor='val_loss', min_delta=1e-3,patience=5, restore_best_weights=True))\n",
    "\n",
    "  model = unet(post_processing=False, levels=7,metrics=[Recall(), Precision()])\n",
    "  model.fit(train_gen, epochs=EPOCHS,loss=loss, validation_data=valid_cropped, steps_per_epoch=STEPS_PER_EPOCH,callbacks = callbacks)\n",
    "  print('Saving ...')\n",
    "  model.save(f'./models/Level7/level7_weighted.h5')\n",
    "\n",
    "\n",
    "  return;\n",
    "\n",
    "##Uncomment if you want to create new models\n",
    "\n",
    "#p = Process(target=evaluate_model, args=(i,sys.stdout))\n",
    "#p.start()\n",
    "#p.join()\n",
    "#K.clear_session()"
   ]
  },
  {
   "cell_type": "markdown",
   "metadata": {
    "id": "nts4542oBcu-"
   },
   "source": [
    "## Loading already computed model"
   ]
  },
  {
   "cell_type": "code",
   "execution_count": null,
   "metadata": {
    "id": "QVE3DYVwspww"
   },
   "outputs": [],
   "source": [
    "model = keras.models.load_model(f'./models/Level7/level7_weighted.h5',custom_objects = {'weighted_binary_crossentropy': loss})"
   ]
  },
  {
   "cell_type": "markdown",
   "metadata": {
    "id": "fpRUMTV_ee7c"
   },
   "source": [
    "## Find best threshold on train set"
   ]
  },
  {
   "cell_type": "code",
   "execution_count": null,
   "metadata": {
    "colab": {
     "base_uri": "https://localhost:8080/",
     "height": 34,
     "referenced_widgets": [
      "982d1f55b74446bba368a054e918532f",
      "562476a0f9c94403a6bdfaffdd50e02a",
      "1a7a9597325e434690df5598bda92baa",
      "8f45237b88614a2d8d4911dfa6ddb005",
      "197f51d6db4c49f6b7c6b1934863e8ad",
      "1d8ac246b1f84ab18acda08696ce5df4",
      "b3ae775587194a4ab6d8dcbcf13ce46e",
      "f5b68553103e4c5099c9f0ade7e07ae8"
     ]
    },
    "executionInfo": {
     "elapsed": 288951,
     "status": "ok",
     "timestamp": 1608200535875,
     "user": {
      "displayName": "Marc Egli",
      "photoUrl": "https://lh3.googleusercontent.com/a-/AOh14GgqEkwOcTNql6vqzMNvYt9RFBkU1X7OFPy6WvHNdw=s64",
      "userId": "07944833463385027445"
     },
     "user_tz": -60
    },
    "id": "v4_LiqJ3ehia",
    "outputId": "42ebfd18-fc8d-41f6-d8c2-1b8a50ae0bbb"
   },
   "outputs": [
    {
     "data": {
      "application/vnd.jupyter.widget-view+json": {
       "model_id": "982d1f55b74446bba368a054e918532f",
       "version_major": 2,
       "version_minor": 0
      },
      "text/plain": [
       "HBox(children=(FloatProgress(value=0.0, max=80.0), HTML(value='')))"
      ]
     },
     "metadata": {
      "tags": []
     },
     "output_type": "display_data"
    },
    {
     "name": "stdout",
     "output_type": "stream",
     "text": [
      "\r"
     ]
    },
    {
     "data": {
      "text/plain": [
       "(122.13157894736841, 0.9386102989923034)"
      ]
     },
     "execution_count": 19,
     "metadata": {
      "tags": []
     },
     "output_type": "execute_result"
    }
   ],
   "source": [
    "THRESHOLDS = [(x,create_vanilla_threshold(x)) for x in np.linspace(0.1*255,0.7*255,num=20)]\n",
    "train_predictions = [predict_from_image_rotated(model, x, stride=72, rotations=[0,90,180,270], pad=False) for x in tqdm(train_x,leave=False)]\n",
    "best_func, best_thresh, best_score = select_best_threshold(THRESHOLDS, train_predictions, train_y)\n",
    "best_thresh, best_score"
   ]
  },
  {
   "cell_type": "markdown",
   "metadata": {
    "id": "pqmVyG_cqvqf"
   },
   "source": [
    "## Validation results"
   ]
  },
  {
   "cell_type": "code",
   "execution_count": null,
   "metadata": {
    "colab": {
     "base_uri": "https://localhost:8080/",
     "height": 34,
     "referenced_widgets": [
      "0bf009ece6e446d7b73fc3c12d3b97b2",
      "b7da340f0ac8444b9f5125af36086ba3",
      "1f06a0b0a2c44f01bd48e078dc75b8e1",
      "0ea454ce8a9f4995b322fec089d5b84b",
      "367655f7153a4a2a86ae674daeb8e59e",
      "085a0211affe48d2ad1818627081856f",
      "db5c1dd6f776449fad02bc1d3bc9cc73",
      "174ca7f937454c23beb43ac6359335e5"
     ]
    },
    "executionInfo": {
     "elapsed": 221846,
     "status": "ok",
     "timestamp": 1608200769662,
     "user": {
      "displayName": "Marc Egli",
      "photoUrl": "https://lh3.googleusercontent.com/a-/AOh14GgqEkwOcTNql6vqzMNvYt9RFBkU1X7OFPy6WvHNdw=s64",
      "userId": "07944833463385027445"
     },
     "user_tz": -60
    },
    "id": "JkNx_r3Lqyp0",
    "outputId": "3a47026e-4855-428d-e138-fb8e28e95458"
   },
   "outputs": [
    {
     "data": {
      "application/vnd.jupyter.widget-view+json": {
       "model_id": "0bf009ece6e446d7b73fc3c12d3b97b2",
       "version_major": 2,
       "version_minor": 0
      },
      "text/plain": [
       "HBox(children=(FloatProgress(value=0.0, max=96.0), HTML(value='')))"
      ]
     },
     "metadata": {
      "tags": []
     },
     "output_type": "display_data"
    },
    {
     "name": "stdout",
     "output_type": "stream",
     "text": [
      "\r"
     ]
    },
    {
     "data": {
      "text/plain": [
       "0.8924624324554655"
      ]
     },
     "execution_count": 20,
     "metadata": {
      "tags": []
     },
     "output_type": "execute_result"
    }
   ],
   "source": [
    "valid_predictions = [predict_from_image_rotated(model, x, stride=72, rotations=[0,90,180,270], pad=False) for x in tqdm(new_x,leave=False)]\n",
    "compute_score_thresholded(best_func, valid_predictions, new_y)"
   ]
  },
  {
   "cell_type": "markdown",
   "metadata": {
    "id": "W9VJzEQyBjlh"
   },
   "source": [
    "# Loading test data and predicting"
   ]
  },
  {
   "cell_type": "code",
   "execution_count": null,
   "metadata": {
    "colab": {
     "base_uri": "https://localhost:8080/",
     "height": 34,
     "referenced_widgets": [
      "8cd84f4ca8f5406a915f709eeb6c1da8",
      "d8901a2701384876a5d84c5e3fe9521a",
      "494e61a1f5d54785be4842b8c5f7d206",
      "06cb1e4b4a5743d1a06fd3e534444e74",
      "ac29e6d986654c199958dce6d7b3d960",
      "55ba52c971b7448891862363026da457",
      "d5bf49d6d087491fa791d2a736e3c9ec",
      "7bb31c37c06444f0b7e3932d763905a5"
     ]
    },
    "executionInfo": {
     "elapsed": 282583,
     "status": "ok",
     "timestamp": 1608201086378,
     "user": {
      "displayName": "Marc Egli",
      "photoUrl": "https://lh3.googleusercontent.com/a-/AOh14GgqEkwOcTNql6vqzMNvYt9RFBkU1X7OFPy6WvHNdw=s64",
      "userId": "07944833463385027445"
     },
     "user_tz": -60
    },
    "id": "_NSvQWm4kpmn",
    "outputId": "0f67a31c-77e9-450d-b5b7-93ed5eb53127"
   },
   "outputs": [
    {
     "name": "stdout",
     "output_type": "stream",
     "text": [
      "Found 50 images belonging to 50 classes.\n"
     ]
    },
    {
     "data": {
      "application/vnd.jupyter.widget-view+json": {
       "model_id": "8cd84f4ca8f5406a915f709eeb6c1da8",
       "version_major": 2,
       "version_minor": 0
      },
      "text/plain": [
       "HBox(children=(FloatProgress(value=0.0, max=50.0), HTML(value='')))"
      ]
     },
     "metadata": {
      "tags": []
     },
     "output_type": "display_data"
    },
    {
     "name": "stdout",
     "output_type": "stream",
     "text": [
      "\r"
     ]
    }
   ],
   "source": [
    "from libs.submission import *\n",
    "\n",
    "test_dir = \"./test_set_images/\"\n",
    "\n",
    "#Load test images\n",
    "test_imgs = load_test_images(test_dir)\n",
    "predictions = [predict_from_image_rotated(model, x, stride=32, rotations=[0,90,180,270], pad=False) for x in tqdm(test_imgs,leave=False)]"
   ]
  },
  {
   "cell_type": "markdown",
   "metadata": {
    "id": "vYxAltOucqsh"
   },
   "source": [
    "## Postprocess"
   ]
  },
  {
   "cell_type": "code",
   "execution_count": null,
   "metadata": {
    "colab": {
     "base_uri": "https://localhost:8080/",
     "height": 17,
     "referenced_widgets": [
      "fa1524183770467eb322db0f58f7ecd1",
      "268a979149e34e08943db06667b5cb53",
      "d0a7a7dcaa694637b5c98234dd89c027",
      "0e4c36f408084437956e76cdcaaeb2f5",
      "fcee82c621b24ca89b04712b1321647b",
      "78899e98943045a89109a73d8dd40898",
      "802606e247e84c6fb8bbd65174f651b5",
      "e7dd6bb9d5494f4e99fee0c4a0c8ece7"
     ]
    },
    "executionInfo": {
     "elapsed": 567,
     "status": "ok",
     "timestamp": 1608201100543,
     "user": {
      "displayName": "Marc Egli",
      "photoUrl": "https://lh3.googleusercontent.com/a-/AOh14GgqEkwOcTNql6vqzMNvYt9RFBkU1X7OFPy6WvHNdw=s64",
      "userId": "07944833463385027445"
     },
     "user_tz": -60
    },
    "id": "sSDajbxMcMeu",
    "outputId": "6f1da546-eec8-4135-a46a-00e97de26e56"
   },
   "outputs": [
    {
     "data": {
      "application/vnd.jupyter.widget-view+json": {
       "model_id": "fa1524183770467eb322db0f58f7ecd1",
       "version_major": 2,
       "version_minor": 0
      },
      "text/plain": [
       "HBox(children=(FloatProgress(value=0.0, max=50.0), HTML(value='')))"
      ]
     },
     "metadata": {
      "tags": []
     },
     "output_type": "display_data"
    },
    {
     "name": "stdout",
     "output_type": "stream",
     "text": [
      "\r"
     ]
    }
   ],
   "source": [
    "thresholded = [(best_func(x)).astype(int)*255 for x in tqdm(predictions,leave=False)]"
   ]
  },
  {
   "cell_type": "markdown",
   "metadata": {
    "id": "IWJytahscoyK"
   },
   "source": [
    "## Create submission"
   ]
  },
  {
   "cell_type": "code",
   "execution_count": null,
   "metadata": {
    "id": "OcyjlrZ0pGR6"
   },
   "outputs": [],
   "source": [
    "#Save images in folder\n",
    "!mkdir level7-weighted\n",
    "save_predictions_to_folder(\"./test_predictions/level7-weighted/\", thresholded)"
   ]
  },
  {
   "cell_type": "code",
   "execution_count": null,
   "metadata": {
    "id": "EEdyoUCXcLk7"
   },
   "outputs": [],
   "source": [
    "#Use images saved in folder to create submission\n",
    "create_submission(\"./test_predictions/level7-weighted/\", \"submissions/level7_weighted_55_submission.csv\")"
   ]
  },
  {
   "cell_type": "markdown",
   "metadata": {
    "id": "txL3xfxxVaYG"
   },
   "source": [
    "## Visualize submission"
   ]
  },
  {
   "cell_type": "code",
   "execution_count": null,
   "metadata": {
    "colab": {
     "base_uri": "https://localhost:8080/",
     "height": 595
    },
    "executionInfo": {
     "elapsed": 8997,
     "status": "ok",
     "timestamp": 1608201142964,
     "user": {
      "displayName": "Marc Egli",
      "photoUrl": "https://lh3.googleusercontent.com/a-/AOh14GgqEkwOcTNql6vqzMNvYt9RFBkU1X7OFPy6WvHNdw=s64",
      "userId": "07944833463385027445"
     },
     "user_tz": -60
    },
    "id": "zQNAEdHUVDSz",
    "outputId": "a2bb82d4-ba0b-4047-b539-e8d7782c8e35"
   },
   "outputs": [
    {
     "data": {
      "image/png": "[encoded data removed]",
      "text/plain": [
       "<Figure size 1440x720 with 50 Axes>"
      ]
     },
     "metadata": {
      "needs_background": "light",
      "tags": []
     },
     "output_type": "display_data"
    }
   ],
   "source": [
    "plot_submission('submissions/level7_weighted_55_submission.csv')"
   ]
  }
 ],
 "metadata": {
  "accelerator": "GPU",
  "colab": {
   "collapsed_sections": [],
   "name": "Weighted_Level_7.ipynb",
   "provenance": [
    {
     "file_id": "16jre4lLv6jjmc3zWtkjUfsJ2_BS1fVid",
     "timestamp": 1606140227471
    },
    {
     "file_id": "1jSqi2iLIvHmaeiFnIxDfsT18bOC480vY",
     "timestamp": 1606064290719
    }
   ],
   "toc_visible": true
  },
  "kernelspec": {
   "display_name": "Python 3",
   "language": "python",
   "name": "python3"
  },
  "language_info": {
   "codemirror_mode": {
    "name": "ipython",
    "version": 3
   },
   "file_extension": ".py",
   "mimetype": "text/x-python",
   "name": "python",
   "nbconvert_exporter": "python",
   "pygments_lexer": "ipython3",
   "version": "3.8.5"
  },
  "widgets": {
   "application/vnd.jupyter.widget-state+json": {
    "06cb1e4b4a5743d1a06fd3e534444e74": {
     "model_module": "@jupyter-widgets/controls",
     "model_name": "HTMLModel",
     "state": {
      "_dom_classes": [],
      "_model_module": "@jupyter-widgets/controls",
      "_model_module_version": "1.5.0",
      "_model_name": "HTMLModel",
      "_view_count": null,
      "_view_module": "@jupyter-widgets/controls",
      "_view_module_version": "1.5.0",
      "_view_name": "HTMLView",
      "description": "",
      "description_tooltip": null,
      "layout": "IPY_MODEL_7bb31c37c06444f0b7e3932d763905a5",
      "placeholder": "​",
      "style": "IPY_MODEL_d5bf49d6d087491fa791d2a736e3c9ec",
      "value": " 50/50 [04:23&lt;00:00,  5.20s/it]"
     }
    },
    "085a0211affe48d2ad1818627081856f": {
     "model_module": "@jupyter-widgets/base",
     "model_name": "LayoutModel",
     "state": {
      "_model_module": "@jupyter-widgets/base",
      "_model_module_version": "1.2.0",
      "_model_name": "LayoutModel",
      "_view_count": null,
      "_view_module": "@jupyter-widgets/base",
      "_view_module_version": "1.2.0",
      "_view_name": "LayoutView",
      "align_content": null,
      "align_items": null,
      "align_self": null,
      "border": null,
      "bottom": null,
      "display": null,
      "flex": null,
      "flex_flow": null,
      "grid_area": null,
      "grid_auto_columns": null,
      "grid_auto_flow": null,
      "grid_auto_rows": null,
      "grid_column": null,
      "grid_gap": null,
      "grid_row": null,
      "grid_template_areas": null,
      "grid_template_columns": null,
      "grid_template_rows": null,
      "height": null,
      "justify_content": null,
      "justify_items": null,
      "left": null,
      "margin": null,
      "max_height": null,
      "max_width": null,
      "min_height": null,
      "min_width": null,
      "object_fit": null,
      "object_position": null,
      "order": null,
      "overflow": null,
      "overflow_x": null,
      "overflow_y": null,
      "padding": null,
      "right": null,
      "top": null,
      "visibility": null,
      "width": null
     }
    },
    "0bf009ece6e446d7b73fc3c12d3b97b2": {
     "model_module": "@jupyter-widgets/controls",
     "model_name": "HBoxModel",
     "state": {
      "_dom_classes": [],
      "_model_module": "@jupyter-widgets/controls",
      "_model_module_version": "1.5.0",
      "_model_name": "HBoxModel",
      "_view_count": null,
      "_view_module": "@jupyter-widgets/controls",
      "_view_module_version": "1.5.0",
      "_view_name": "HBoxView",
      "box_style": "",
      "children": [
       "IPY_MODEL_1f06a0b0a2c44f01bd48e078dc75b8e1",
       "IPY_MODEL_0ea454ce8a9f4995b322fec089d5b84b"
      ],
      "layout": "IPY_MODEL_b7da340f0ac8444b9f5125af36086ba3"
     }
    },
    "0e4c36f408084437956e76cdcaaeb2f5": {
     "model_module": "@jupyter-widgets/controls",
     "model_name": "HTMLModel",
     "state": {
      "_dom_classes": [],
      "_model_module": "@jupyter-widgets/controls",
      "_model_module_version": "1.5.0",
      "_model_name": "HTMLModel",
      "_view_count": null,
      "_view_module": "@jupyter-widgets/controls",
      "_view_module_version": "1.5.0",
      "_view_name": "HTMLView",
      "description": "",
      "description_tooltip": null,
      "layout": "IPY_MODEL_e7dd6bb9d5494f4e99fee0c4a0c8ece7",
      "placeholder": "​",
      "style": "IPY_MODEL_802606e247e84c6fb8bbd65174f651b5",
      "value": " 50/50 [00:00&lt;00:00, 457.76it/s]"
     }
    },
    "0ea454ce8a9f4995b322fec089d5b84b": {
     "model_module": "@jupyter-widgets/controls",
     "model_name": "HTMLModel",
     "state": {
      "_dom_classes": [],
      "_model_module": "@jupyter-widgets/controls",
      "_model_module_version": "1.5.0",
      "_model_name": "HTMLModel",
      "_view_count": null,
      "_view_module": "@jupyter-widgets/controls",
      "_view_module_version": "1.5.0",
      "_view_name": "HTMLView",
      "description": "",
      "description_tooltip": null,
      "layout": "IPY_MODEL_174ca7f937454c23beb43ac6359335e5",
      "placeholder": "​",
      "style": "IPY_MODEL_db5c1dd6f776449fad02bc1d3bc9cc73",
      "value": " 96/96 [03:35&lt;00:00,  2.25s/it]"
     }
    },
    "174ca7f937454c23beb43ac6359335e5": {
     "model_module": "@jupyter-widgets/base",
     "model_name": "LayoutModel",
     "state": {
      "_model_module": "@jupyter-widgets/base",
      "_model_module_version": "1.2.0",
      "_model_name": "LayoutModel",
      "_view_count": null,
      "_view_module": "@jupyter-widgets/base",
      "_view_module_version": "1.2.0",
      "_view_name": "LayoutView",
      "align_content": null,
      "align_items": null,
      "align_self": null,
      "border": null,
      "bottom": null,
      "display": null,
      "flex": null,
      "flex_flow": null,
      "grid_area": null,
      "grid_auto_columns": null,
      "grid_auto_flow": null,
      "grid_auto_rows": null,
      "grid_column": null,
      "grid_gap": null,
      "grid_row": null,
      "grid_template_areas": null,
      "grid_template_columns": null,
      "grid_template_rows": null,
      "height": null,
      "justify_content": null,
      "justify_items": null,
      "left": null,
      "margin": null,
      "max_height": null,
      "max_width": null,
      "min_height": null,
      "min_width": null,
      "object_fit": null,
      "object_position": null,
      "order": null,
      "overflow": null,
      "overflow_x": null,
      "overflow_y": null,
      "padding": null,
      "right": null,
      "top": null,
      "visibility": null,
      "width": null
     }
    },
    "197f51d6db4c49f6b7c6b1934863e8ad": {
     "model_module": "@jupyter-widgets/controls",
     "model_name": "ProgressStyleModel",
     "state": {
      "_model_module": "@jupyter-widgets/controls",
      "_model_module_version": "1.5.0",
      "_model_name": "ProgressStyleModel",
      "_view_count": null,
      "_view_module": "@jupyter-widgets/base",
      "_view_module_version": "1.2.0",
      "_view_name": "StyleView",
      "bar_color": null,
      "description_width": "initial"
     }
    },
    "1a7a9597325e434690df5598bda92baa": {
     "model_module": "@jupyter-widgets/controls",
     "model_name": "FloatProgressModel",
     "state": {
      "_dom_classes": [],
      "_model_module": "@jupyter-widgets/controls",
      "_model_module_version": "1.5.0",
      "_model_name": "FloatProgressModel",
      "_view_count": null,
      "_view_module": "@jupyter-widgets/controls",
      "_view_module_version": "1.5.0",
      "_view_name": "ProgressView",
      "bar_style": "",
      "description": "100%",
      "description_tooltip": null,
      "layout": "IPY_MODEL_1d8ac246b1f84ab18acda08696ce5df4",
      "max": 80,
      "min": 0,
      "orientation": "horizontal",
      "style": "IPY_MODEL_197f51d6db4c49f6b7c6b1934863e8ad",
      "value": 80
     }
    },
    "1d8ac246b1f84ab18acda08696ce5df4": {
     "model_module": "@jupyter-widgets/base",
     "model_name": "LayoutModel",
     "state": {
      "_model_module": "@jupyter-widgets/base",
      "_model_module_version": "1.2.0",
      "_model_name": "LayoutModel",
      "_view_count": null,
      "_view_module": "@jupyter-widgets/base",
      "_view_module_version": "1.2.0",
      "_view_name": "LayoutView",
      "align_content": null,
      "align_items": null,
      "align_self": null,
      "border": null,
      "bottom": null,
      "display": null,
      "flex": null,
      "flex_flow": null,
      "grid_area": null,
      "grid_auto_columns": null,
      "grid_auto_flow": null,
      "grid_auto_rows": null,
      "grid_column": null,
      "grid_gap": null,
      "grid_row": null,
      "grid_template_areas": null,
      "grid_template_columns": null,
      "grid_template_rows": null,
      "height": null,
      "justify_content": null,
      "justify_items": null,
      "left": null,
      "margin": null,
      "max_height": null,
      "max_width": null,
      "min_height": null,
      "min_width": null,
      "object_fit": null,
      "object_position": null,
      "order": null,
      "overflow": null,
      "overflow_x": null,
      "overflow_y": null,
      "padding": null,
      "right": null,
      "top": null,
      "visibility": null,
      "width": null
     }
    },
    "1f06a0b0a2c44f01bd48e078dc75b8e1": {
     "model_module": "@jupyter-widgets/controls",
     "model_name": "FloatProgressModel",
     "state": {
      "_dom_classes": [],
      "_model_module": "@jupyter-widgets/controls",
      "_model_module_version": "1.5.0",
      "_model_name": "FloatProgressModel",
      "_view_count": null,
      "_view_module": "@jupyter-widgets/controls",
      "_view_module_version": "1.5.0",
      "_view_name": "ProgressView",
      "bar_style": "",
      "description": "100%",
      "description_tooltip": null,
      "layout": "IPY_MODEL_085a0211affe48d2ad1818627081856f",
      "max": 96,
      "min": 0,
      "orientation": "horizontal",
      "style": "IPY_MODEL_367655f7153a4a2a86ae674daeb8e59e",
      "value": 96
     }
    },
    "268a979149e34e08943db06667b5cb53": {
     "model_module": "@jupyter-widgets/base",
     "model_name": "LayoutModel",
     "state": {
      "_model_module": "@jupyter-widgets/base",
      "_model_module_version": "1.2.0",
      "_model_name": "LayoutModel",
      "_view_count": null,
      "_view_module": "@jupyter-widgets/base",
      "_view_module_version": "1.2.0",
      "_view_name": "LayoutView",
      "align_content": null,
      "align_items": null,
      "align_self": null,
      "border": null,
      "bottom": null,
      "display": null,
      "flex": null,
      "flex_flow": null,
      "grid_area": null,
      "grid_auto_columns": null,
      "grid_auto_flow": null,
      "grid_auto_rows": null,
      "grid_column": null,
      "grid_gap": null,
      "grid_row": null,
      "grid_template_areas": null,
      "grid_template_columns": null,
      "grid_template_rows": null,
      "height": null,
      "justify_content": null,
      "justify_items": null,
      "left": null,
      "margin": null,
      "max_height": null,
      "max_width": null,
      "min_height": null,
      "min_width": null,
      "object_fit": null,
      "object_position": null,
      "order": null,
      "overflow": null,
      "overflow_x": null,
      "overflow_y": null,
      "padding": null,
      "right": null,
      "top": null,
      "visibility": null,
      "width": null
     }
    },
    "367655f7153a4a2a86ae674daeb8e59e": {
     "model_module": "@jupyter-widgets/controls",
     "model_name": "ProgressStyleModel",
     "state": {
      "_model_module": "@jupyter-widgets/controls",
      "_model_module_version": "1.5.0",
      "_model_name": "ProgressStyleModel",
      "_view_count": null,
      "_view_module": "@jupyter-widgets/base",
      "_view_module_version": "1.2.0",
      "_view_name": "StyleView",
      "bar_color": null,
      "description_width": "initial"
     }
    },
    "494e61a1f5d54785be4842b8c5f7d206": {
     "model_module": "@jupyter-widgets/controls",
     "model_name": "FloatProgressModel",
     "state": {
      "_dom_classes": [],
      "_model_module": "@jupyter-widgets/controls",
      "_model_module_version": "1.5.0",
      "_model_name": "FloatProgressModel",
      "_view_count": null,
      "_view_module": "@jupyter-widgets/controls",
      "_view_module_version": "1.5.0",
      "_view_name": "ProgressView",
      "bar_style": "",
      "description": "100%",
      "description_tooltip": null,
      "layout": "IPY_MODEL_55ba52c971b7448891862363026da457",
      "max": 50,
      "min": 0,
      "orientation": "horizontal",
      "style": "IPY_MODEL_ac29e6d986654c199958dce6d7b3d960",
      "value": 50
     }
    },
    "55ba52c971b7448891862363026da457": {
     "model_module": "@jupyter-widgets/base",
     "model_name": "LayoutModel",
     "state": {
      "_model_module": "@jupyter-widgets/base",
      "_model_module_version": "1.2.0",
      "_model_name": "LayoutModel",
      "_view_count": null,
      "_view_module": "@jupyter-widgets/base",
      "_view_module_version": "1.2.0",
      "_view_name": "LayoutView",
      "align_content": null,
      "align_items": null,
      "align_self": null,
      "border": null,
      "bottom": null,
      "display": null,
      "flex": null,
      "flex_flow": null,
      "grid_area": null,
      "grid_auto_columns": null,
      "grid_auto_flow": null,
      "grid_auto_rows": null,
      "grid_column": null,
      "grid_gap": null,
      "grid_row": null,
      "grid_template_areas": null,
      "grid_template_columns": null,
      "grid_template_rows": null,
      "height": null,
      "justify_content": null,
      "justify_items": null,
      "left": null,
      "margin": null,
      "max_height": null,
      "max_width": null,
      "min_height": null,
      "min_width": null,
      "object_fit": null,
      "object_position": null,
      "order": null,
      "overflow": null,
      "overflow_x": null,
      "overflow_y": null,
      "padding": null,
      "right": null,
      "top": null,
      "visibility": null,
      "width": null
     }
    },
    "562476a0f9c94403a6bdfaffdd50e02a": {
     "model_module": "@jupyter-widgets/base",
     "model_name": "LayoutModel",
     "state": {
      "_model_module": "@jupyter-widgets/base",
      "_model_module_version": "1.2.0",
      "_model_name": "LayoutModel",
      "_view_count": null,
      "_view_module": "@jupyter-widgets/base",
      "_view_module_version": "1.2.0",
      "_view_name": "LayoutView",
      "align_content": null,
      "align_items": null,
      "align_self": null,
      "border": null,
      "bottom": null,
      "display": null,
      "flex": null,
      "flex_flow": null,
      "grid_area": null,
      "grid_auto_columns": null,
      "grid_auto_flow": null,
      "grid_auto_rows": null,
      "grid_column": null,
      "grid_gap": null,
      "grid_row": null,
      "grid_template_areas": null,
      "grid_template_columns": null,
      "grid_template_rows": null,
      "height": null,
      "justify_content": null,
      "justify_items": null,
      "left": null,
      "margin": null,
      "max_height": null,
      "max_width": null,
      "min_height": null,
      "min_width": null,
      "object_fit": null,
      "object_position": null,
      "order": null,
      "overflow": null,
      "overflow_x": null,
      "overflow_y": null,
      "padding": null,
      "right": null,
      "top": null,
      "visibility": null,
      "width": null
     }
    },
    "78899e98943045a89109a73d8dd40898": {
     "model_module": "@jupyter-widgets/base",
     "model_name": "LayoutModel",
     "state": {
      "_model_module": "@jupyter-widgets/base",
      "_model_module_version": "1.2.0",
      "_model_name": "LayoutModel",
      "_view_count": null,
      "_view_module": "@jupyter-widgets/base",
      "_view_module_version": "1.2.0",
      "_view_name": "LayoutView",
      "align_content": null,
      "align_items": null,
      "align_self": null,
      "border": null,
      "bottom": null,
      "display": null,
      "flex": null,
      "flex_flow": null,
      "grid_area": null,
      "grid_auto_columns": null,
      "grid_auto_flow": null,
      "grid_auto_rows": null,
      "grid_column": null,
      "grid_gap": null,
      "grid_row": null,
      "grid_template_areas": null,
      "grid_template_columns": null,
      "grid_template_rows": null,
      "height": null,
      "justify_content": null,
      "justify_items": null,
      "left": null,
      "margin": null,
      "max_height": null,
      "max_width": null,
      "min_height": null,
      "min_width": null,
      "object_fit": null,
      "object_position": null,
      "order": null,
      "overflow": null,
      "overflow_x": null,
      "overflow_y": null,
      "padding": null,
      "right": null,
      "top": null,
      "visibility": null,
      "width": null
     }
    },
    "7bb31c37c06444f0b7e3932d763905a5": {
     "model_module": "@jupyter-widgets/base",
     "model_name": "LayoutModel",
     "state": {
      "_model_module": "@jupyter-widgets/base",
      "_model_module_version": "1.2.0",
      "_model_name": "LayoutModel",
      "_view_count": null,
      "_view_module": "@jupyter-widgets/base",
      "_view_module_version": "1.2.0",
      "_view_name": "LayoutView",
      "align_content": null,
      "align_items": null,
      "align_self": null,
      "border": null,
      "bottom": null,
      "display": null,
      "flex": null,
      "flex_flow": null,
      "grid_area": null,
      "grid_auto_columns": null,
      "grid_auto_flow": null,
      "grid_auto_rows": null,
      "grid_column": null,
      "grid_gap": null,
      "grid_row": null,
      "grid_template_areas": null,
      "grid_template_columns": null,
      "grid_template_rows": null,
      "height": null,
      "justify_content": null,
      "justify_items": null,
      "left": null,
      "margin": null,
      "max_height": null,
      "max_width": null,
      "min_height": null,
      "min_width": null,
      "object_fit": null,
      "object_position": null,
      "order": null,
      "overflow": null,
      "overflow_x": null,
      "overflow_y": null,
      "padding": null,
      "right": null,
      "top": null,
      "visibility": null,
      "width": null
     }
    },
    "802606e247e84c6fb8bbd65174f651b5": {
     "model_module": "@jupyter-widgets/controls",
     "model_name": "DescriptionStyleModel",
     "state": {
      "_model_module": "@jupyter-widgets/controls",
      "_model_module_version": "1.5.0",
      "_model_name": "DescriptionStyleModel",
      "_view_count": null,
      "_view_module": "@jupyter-widgets/base",
      "_view_module_version": "1.2.0",
      "_view_name": "StyleView",
      "description_width": ""
     }
    },
    "8cd84f4ca8f5406a915f709eeb6c1da8": {
     "model_module": "@jupyter-widgets/controls",
     "model_name": "HBoxModel",
     "state": {
      "_dom_classes": [],
      "_model_module": "@jupyter-widgets/controls",
      "_model_module_version": "1.5.0",
      "_model_name": "HBoxModel",
      "_view_count": null,
      "_view_module": "@jupyter-widgets/controls",
      "_view_module_version": "1.5.0",
      "_view_name": "HBoxView",
      "box_style": "",
      "children": [
       "IPY_MODEL_494e61a1f5d54785be4842b8c5f7d206",
       "IPY_MODEL_06cb1e4b4a5743d1a06fd3e534444e74"
      ],
      "layout": "IPY_MODEL_d8901a2701384876a5d84c5e3fe9521a"
     }
    },
    "8f45237b88614a2d8d4911dfa6ddb005": {
     "model_module": "@jupyter-widgets/controls",
     "model_name": "HTMLModel",
     "state": {
      "_dom_classes": [],
      "_model_module": "@jupyter-widgets/controls",
      "_model_module_version": "1.5.0",
      "_model_name": "HTMLModel",
      "_view_count": null,
      "_view_module": "@jupyter-widgets/controls",
      "_view_module_version": "1.5.0",
      "_view_name": "HTMLView",
      "description": "",
      "description_tooltip": null,
      "layout": "IPY_MODEL_f5b68553103e4c5099c9f0ade7e07ae8",
      "placeholder": "​",
      "style": "IPY_MODEL_b3ae775587194a4ab6d8dcbcf13ce46e",
      "value": " 80/80 [03:06&lt;00:00,  2.24s/it]"
     }
    },
    "982d1f55b74446bba368a054e918532f": {
     "model_module": "@jupyter-widgets/controls",
     "model_name": "HBoxModel",
     "state": {
      "_dom_classes": [],
      "_model_module": "@jupyter-widgets/controls",
      "_model_module_version": "1.5.0",
      "_model_name": "HBoxModel",
      "_view_count": null,
      "_view_module": "@jupyter-widgets/controls",
      "_view_module_version": "1.5.0",
      "_view_name": "HBoxView",
      "box_style": "",
      "children": [
       "IPY_MODEL_1a7a9597325e434690df5598bda92baa",
       "IPY_MODEL_8f45237b88614a2d8d4911dfa6ddb005"
      ],
      "layout": "IPY_MODEL_562476a0f9c94403a6bdfaffdd50e02a"
     }
    },
    "ac29e6d986654c199958dce6d7b3d960": {
     "model_module": "@jupyter-widgets/controls",
     "model_name": "ProgressStyleModel",
     "state": {
      "_model_module": "@jupyter-widgets/controls",
      "_model_module_version": "1.5.0",
      "_model_name": "ProgressStyleModel",
      "_view_count": null,
      "_view_module": "@jupyter-widgets/base",
      "_view_module_version": "1.2.0",
      "_view_name": "StyleView",
      "bar_color": null,
      "description_width": "initial"
     }
    },
    "b3ae775587194a4ab6d8dcbcf13ce46e": {
     "model_module": "@jupyter-widgets/controls",
     "model_name": "DescriptionStyleModel",
     "state": {
      "_model_module": "@jupyter-widgets/controls",
      "_model_module_version": "1.5.0",
      "_model_name": "DescriptionStyleModel",
      "_view_count": null,
      "_view_module": "@jupyter-widgets/base",
      "_view_module_version": "1.2.0",
      "_view_name": "StyleView",
      "description_width": ""
     }
    },
    "b7da340f0ac8444b9f5125af36086ba3": {
     "model_module": "@jupyter-widgets/base",
     "model_name": "LayoutModel",
     "state": {
      "_model_module": "@jupyter-widgets/base",
      "_model_module_version": "1.2.0",
      "_model_name": "LayoutModel",
      "_view_count": null,
      "_view_module": "@jupyter-widgets/base",
      "_view_module_version": "1.2.0",
      "_view_name": "LayoutView",
      "align_content": null,
      "align_items": null,
      "align_self": null,
      "border": null,
      "bottom": null,
      "display": null,
      "flex": null,
      "flex_flow": null,
      "grid_area": null,
      "grid_auto_columns": null,
      "grid_auto_flow": null,
      "grid_auto_rows": null,
      "grid_column": null,
      "grid_gap": null,
      "grid_row": null,
      "grid_template_areas": null,
      "grid_template_columns": null,
      "grid_template_rows": null,
      "height": null,
      "justify_content": null,
      "justify_items": null,
      "left": null,
      "margin": null,
      "max_height": null,
      "max_width": null,
      "min_height": null,
      "min_width": null,
      "object_fit": null,
      "object_position": null,
      "order": null,
      "overflow": null,
      "overflow_x": null,
      "overflow_y": null,
      "padding": null,
      "right": null,
      "top": null,
      "visibility": null,
      "width": null
     }
    },
    "d0a7a7dcaa694637b5c98234dd89c027": {
     "model_module": "@jupyter-widgets/controls",
     "model_name": "FloatProgressModel",
     "state": {
      "_dom_classes": [],
      "_model_module": "@jupyter-widgets/controls",
      "_model_module_version": "1.5.0",
      "_model_name": "FloatProgressModel",
      "_view_count": null,
      "_view_module": "@jupyter-widgets/controls",
      "_view_module_version": "1.5.0",
      "_view_name": "ProgressView",
      "bar_style": "",
      "description": "100%",
      "description_tooltip": null,
      "layout": "IPY_MODEL_78899e98943045a89109a73d8dd40898",
      "max": 50,
      "min": 0,
      "orientation": "horizontal",
      "style": "IPY_MODEL_fcee82c621b24ca89b04712b1321647b",
      "value": 50
     }
    },
    "d5bf49d6d087491fa791d2a736e3c9ec": {
     "model_module": "@jupyter-widgets/controls",
     "model_name": "DescriptionStyleModel",
     "state": {
      "_model_module": "@jupyter-widgets/controls",
      "_model_module_version": "1.5.0",
      "_model_name": "DescriptionStyleModel",
      "_view_count": null,
      "_view_module": "@jupyter-widgets/base",
      "_view_module_version": "1.2.0",
      "_view_name": "StyleView",
      "description_width": ""
     }
    },
    "d8901a2701384876a5d84c5e3fe9521a": {
     "model_module": "@jupyter-widgets/base",
     "model_name": "LayoutModel",
     "state": {
      "_model_module": "@jupyter-widgets/base",
      "_model_module_version": "1.2.0",
      "_model_name": "LayoutModel",
      "_view_count": null,
      "_view_module": "@jupyter-widgets/base",
      "_view_module_version": "1.2.0",
      "_view_name": "LayoutView",
      "align_content": null,
      "align_items": null,
      "align_self": null,
      "border": null,
      "bottom": null,
      "display": null,
      "flex": null,
      "flex_flow": null,
      "grid_area": null,
      "grid_auto_columns": null,
      "grid_auto_flow": null,
      "grid_auto_rows": null,
      "grid_column": null,
      "grid_gap": null,
      "grid_row": null,
      "grid_template_areas": null,
      "grid_template_columns": null,
      "grid_template_rows": null,
      "height": null,
      "justify_content": null,
      "justify_items": null,
      "left": null,
      "margin": null,
      "max_height": null,
      "max_width": null,
      "min_height": null,
      "min_width": null,
      "object_fit": null,
      "object_position": null,
      "order": null,
      "overflow": null,
      "overflow_x": null,
      "overflow_y": null,
      "padding": null,
      "right": null,
      "top": null,
      "visibility": null,
      "width": null
     }
    },
    "db5c1dd6f776449fad02bc1d3bc9cc73": {
     "model_module": "@jupyter-widgets/controls",
     "model_name": "DescriptionStyleModel",
     "state": {
      "_model_module": "@jupyter-widgets/controls",
      "_model_module_version": "1.5.0",
      "_model_name": "DescriptionStyleModel",
      "_view_count": null,
      "_view_module": "@jupyter-widgets/base",
      "_view_module_version": "1.2.0",
      "_view_name": "StyleView",
      "description_width": ""
     }
    },
    "e7dd6bb9d5494f4e99fee0c4a0c8ece7": {
     "model_module": "@jupyter-widgets/base",
     "model_name": "LayoutModel",
     "state": {
      "_model_module": "@jupyter-widgets/base",
      "_model_module_version": "1.2.0",
      "_model_name": "LayoutModel",
      "_view_count": null,
      "_view_module": "@jupyter-widgets/base",
      "_view_module_version": "1.2.0",
      "_view_name": "LayoutView",
      "align_content": null,
      "align_items": null,
      "align_self": null,
      "border": null,
      "bottom": null,
      "display": null,
      "flex": null,
      "flex_flow": null,
      "grid_area": null,
      "grid_auto_columns": null,
      "grid_auto_flow": null,
      "grid_auto_rows": null,
      "grid_column": null,
      "grid_gap": null,
      "grid_row": null,
      "grid_template_areas": null,
      "grid_template_columns": null,
      "grid_template_rows": null,
      "height": null,
      "justify_content": null,
      "justify_items": null,
      "left": null,
      "margin": null,
      "max_height": null,
      "max_width": null,
      "min_height": null,
      "min_width": null,
      "object_fit": null,
      "object_position": null,
      "order": null,
      "overflow": null,
      "overflow_x": null,
      "overflow_y": null,
      "padding": null,
      "right": null,
      "top": null,
      "visibility": null,
      "width": null
     }
    },
    "f5b68553103e4c5099c9f0ade7e07ae8": {
     "model_module": "@jupyter-widgets/base",
     "model_name": "LayoutModel",
     "state": {
      "_model_module": "@jupyter-widgets/base",
      "_model_module_version": "1.2.0",
      "_model_name": "LayoutModel",
      "_view_count": null,
      "_view_module": "@jupyter-widgets/base",
      "_view_module_version": "1.2.0",
      "_view_name": "LayoutView",
      "align_content": null,
      "align_items": null,
      "align_self": null,
      "border": null,
      "bottom": null,
      "display": null,
      "flex": null,
      "flex_flow": null,
      "grid_area": null,
      "grid_auto_columns": null,
      "grid_auto_flow": null,
      "grid_auto_rows": null,
      "grid_column": null,
      "grid_gap": null,
      "grid_row": null,
      "grid_template_areas": null,
      "grid_template_columns": null,
      "grid_template_rows": null,
      "height": null,
      "justify_content": null,
      "justify_items": null,
      "left": null,
      "margin": null,
      "max_height": null,
      "max_width": null,
      "min_height": null,
      "min_width": null,
      "object_fit": null,
      "object_position": null,
      "order": null,
      "overflow": null,
      "overflow_x": null,
      "overflow_y": null,
      "padding": null,
      "right": null,
      "top": null,
      "visibility": null,
      "width": null
     }
    },
    "fa1524183770467eb322db0f58f7ecd1": {
     "model_module": "@jupyter-widgets/controls",
     "model_name": "HBoxModel",
     "state": {
      "_dom_classes": [],
      "_model_module": "@jupyter-widgets/controls",
      "_model_module_version": "1.5.0",
      "_model_name": "HBoxModel",
      "_view_count": null,
      "_view_module": "@jupyter-widgets/controls",
      "_view_module_version": "1.5.0",
      "_view_name": "HBoxView",
      "box_style": "",
      "children": [
       "IPY_MODEL_d0a7a7dcaa694637b5c98234dd89c027",
       "IPY_MODEL_0e4c36f408084437956e76cdcaaeb2f5"
      ],
      "layout": "IPY_MODEL_268a979149e34e08943db06667b5cb53"
     }
    },
    "fcee82c621b24ca89b04712b1321647b": {
     "model_module": "@jupyter-widgets/controls",
     "model_name": "ProgressStyleModel",
     "state": {
      "_model_module": "@jupyter-widgets/controls",
      "_model_module_version": "1.5.0",
      "_model_name": "ProgressStyleModel",
      "_view_count": null,
      "_view_module": "@jupyter-widgets/base",
      "_view_module_version": "1.2.0",
      "_view_name": "StyleView",
      "bar_color": null,
      "description_width": "initial"
     }
    }
   }
  }
 },
 "nbformat": 4,
 "nbformat_minor": 1
}

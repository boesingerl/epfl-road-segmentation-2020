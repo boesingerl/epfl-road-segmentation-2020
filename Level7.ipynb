{
 "cells": [
  {
   "cell_type": "markdown",
   "metadata": {
    "id": "Q2tED-PnoYoo"
   },
   "source": [
    "In this notebook we present how we computed a level 7 model and predicted outputs from the test images by using rotations"
   ]
  },
  {
   "cell_type": "code",
   "execution_count": null,
   "metadata": {
    "colab": {
     "base_uri": "https://localhost:8080/"
    },
    "executionInfo": {
     "elapsed": 1626,
     "status": "ok",
     "timestamp": 1608209568667,
     "user": {
      "displayName": "Marc Egli",
      "photoUrl": "https://lh3.googleusercontent.com/a-/AOh14GgqEkwOcTNql6vqzMNvYt9RFBkU1X7OFPy6WvHNdw=s64",
      "userId": "07944833463385027445"
     },
     "user_tz": -60
    },
    "id": "moyXqyvxo9Dp",
    "outputId": "47715d5f-a782-4c2c-c5ee-e3d672648960"
   },
   "outputs": [
    {
     "name": "stdout",
     "output_type": "stream",
     "text": [
      "Mounted at /content/gdrive\n"
     ]
    }
   ],
   "source": [
    "from google.colab import drive\n",
    "import os\n",
    "import re\n",
    "import numpy as np\n",
    "from skimage import io\n",
    "import cv2\n",
    "from tqdm.notebook import tqdm\n",
    "\n",
    "drive.mount(\"/content/gdrive\", force_remount=True)\n",
    "\n",
    "drive_path = \"/content/gdrive/MyDrive/Project-KLM/\" \n",
    "os.chdir(drive_path)"
   ]
  },
  {
   "cell_type": "code",
   "execution_count": null,
   "metadata": {
    "id": "lFMw-YkO4E_K"
   },
   "outputs": [],
   "source": [
    "from libs.models import *\n",
    "from libs.ImageGen import *\n",
    "from libs.sliding_window import *\n",
    "from libs.post_process import *\n",
    "from libs.threshold import *\n",
    "from libs.submission import *\n",
    "from libs.augmentation import *"
   ]
  },
  {
   "cell_type": "code",
   "execution_count": null,
   "metadata": {
    "colab": {
     "base_uri": "https://localhost:8080/"
    },
    "executionInfo": {
     "elapsed": 2404,
     "status": "ok",
     "timestamp": 1608209570995,
     "user": {
      "displayName": "Marc Egli",
      "photoUrl": "https://lh3.googleusercontent.com/a-/AOh14GgqEkwOcTNql6vqzMNvYt9RFBkU1X7OFPy6WvHNdw=s64",
      "userId": "07944833463385027445"
     },
     "user_tz": -60
    },
    "id": "RMp9jqZv4E7Q",
    "outputId": "edcf7678-ad62-4319-a279-b4f9c8aa1973"
   },
   "outputs": [
    {
     "name": "stdout",
     "output_type": "stream",
     "text": [
      "Found 80 images belonging to 1 classes.\n",
      "Found 80 images belonging to 1 classes.\n",
      "Found 20 images belonging to 1 classes.\n",
      "Found 20 images belonging to 1 classes.\n"
     ]
    }
   ],
   "source": [
    "#Parameters to load the data\n",
    "input_dir = \"training/images\"\n",
    "target_dir = \"training/groundtruth/\"\n",
    "img_size = (400, 400) #Don't edit size\n",
    "batch_size = 100\n",
    "seed = 10\n",
    "\n",
    "#Don't apply any data augmentation here, we just load the pictures in RAM\n",
    "grayscale_x = False\n",
    "crop_length = None \n",
    "aug_gen_args = {'validation_split' : 0.2}  #Only param is validation 80/20 split\n",
    "\n",
    "#Load the data (80 training images, 20 validation images)\n",
    "imgen = ImageGenerator(input_dir, target_dir, aug_gen_args, seed, img_size, batch_size, grayscale_x, force_batch_size=False)\n",
    "train_gen, valid_gen = imgen.get_normal_generator()\n",
    "train_x, train_y = next(train_gen)\n",
    "valid_x, valid_y = next(valid_gen)"
   ]
  },
  {
   "cell_type": "markdown",
   "metadata": {
    "id": "gz3GroikBEgZ"
   },
   "source": [
    "# Augmenting validations set"
   ]
  },
  {
   "cell_type": "code",
   "execution_count": null,
   "metadata": {
    "colab": {
     "base_uri": "https://localhost:8080/"
    },
    "executionInfo": {
     "elapsed": 1650,
     "status": "ok",
     "timestamp": 1608209572290,
     "user": {
      "displayName": "Marc Egli",
      "photoUrl": "https://lh3.googleusercontent.com/a-/AOh14GgqEkwOcTNql6vqzMNvYt9RFBkU1X7OFPy6WvHNdw=s64",
      "userId": "07944833463385027445"
     },
     "user_tz": -60
    },
    "id": "AeFyL1IfrpqF",
    "outputId": "e476d8c3-3f24-436b-bd05-b1992a5d1e11"
   },
   "outputs": [
    {
     "name": "stdout",
     "output_type": "stream",
     "text": [
      "Validation batches are of shape:\n"
     ]
    },
    {
     "data": {
      "text/plain": [
       "((16, 256, 256, 3), (16, 256, 256, 1))"
      ]
     },
     "execution_count": 9,
     "metadata": {
      "tags": []
     },
     "output_type": "execute_result"
    }
   ],
   "source": [
    "# set seed for reprodubility and retrieve (new) data to serve as validation\n",
    "np.random.seed(seed)\n",
    "new_x, new_y = apply_augments(valid_x), apply_augments(valid_y)\n",
    "\n",
    "# validation set on pred_n = 96 images out of the 240 which result from the flips and rotations\n",
    "pred_n = 96\n",
    "selected_indices = np.random.randint(0,len(new_x),pred_n)\n",
    "new_x, new_y = new_x[selected_indices], new_y[selected_indices]\n",
    "\n",
    "cropper = iaa.Sequential([iaa.size.CropToFixedSize(width=256,height=256,random_state=1)])\n",
    "cropped_x = cropper.augment_images(new_x)\n",
    "\n",
    "cropper = iaa.Sequential([iaa.size.CropToFixedSize(width=256,height=256,random_state=1)])\n",
    "cropped_y = cropper.augment_images(new_y)\n",
    "\n",
    "# create batches from selected validation set\n",
    "def chunks(l, n):\n",
    "    \"\"\"Yield successive n-sized chunks from l.\"\"\"\n",
    "    for i in range(0, len(l), n):\n",
    "        yield l[i:i + n]\n",
    "\n",
    "batched_x = [np.stack(x) for x in chunks(cropped_x,16)]\n",
    "batched_y = [np.stack(y) for y in chunks(cropped_y,16)]\n",
    "\n",
    "valid_cropped = (batched_x,batched_y)\n",
    "\n",
    "print(\"Validation batches are of shape:\")\n",
    "batched_x[0].shape, batched_y[0].shape"
   ]
  },
  {
   "cell_type": "markdown",
   "metadata": {
    "id": "YNIdqNvWBNrw"
   },
   "source": [
    "# Data Augmentation Parameters"
   ]
  },
  {
   "cell_type": "code",
   "execution_count": null,
   "metadata": {
    "id": "oW_-3mjKoYop"
   },
   "outputs": [],
   "source": [
    "aug_gen_args = {\n",
    "    'rotation_range' : 90,\n",
    "    'width_shift_range' : 0.2,\n",
    "    'height_shift_range' : 0.2,\n",
    "    'horizontal_flip' : False,\n",
    "    'vertical_flip' : False,\n",
    "}"
   ]
  },
  {
   "cell_type": "markdown",
   "metadata": {
    "id": "C9es9QvQBSTi"
   },
   "source": [
    "# Model computation"
   ]
  },
  {
   "cell_type": "markdown",
   "metadata": {
    "id": "_guuWT0oBXM6"
   },
   "source": [
    "## Training of a Level 7 model"
   ]
  },
  {
   "cell_type": "code",
   "execution_count": null,
   "metadata": {
    "id": "whKLQ9SD5BNd"
   },
   "outputs": [],
   "source": [
    "from multiprocessing import Process,Value\n",
    "from IPython.display import clear_output\n",
    "from tensorflow.keras.metrics import Recall, Precision\n",
    "from keras import backend as K\n",
    "import sys\n",
    "\n",
    "EPOCHS = 30\n",
    "STEPS_PER_EPOCH = 250\n",
    "\n",
    "def evaluate_model(i,stdout) :\n",
    "  sys.stdout = stdout\n",
    "  #We use a different seed for each model\n",
    "  seed = random.randint(0,2**32 -1 )\n",
    "  datagen = ImageDataGenerator(**aug_gen_args)\n",
    "  train_image_gen = datagen.flow(train_x,seed=seed,batch_size=16)\n",
    "  train_mask_gen  = datagen.flow(train_y,seed=seed,batch_size=16)\n",
    "  train_gen = zip(train_image_gen, train_mask_gen)\n",
    "  train_gen = crop_generator(train_gen, 256,seed)\n",
    "  \n",
    "  print('Creating model')\n",
    "  callbacks = []\n",
    "  callbacks.append(tf.keras.callbacks.EarlyStopping(monitor='val_loss', min_delta=1e-3,patience=5, restore_best_weights=True))\n",
    "\n",
    "  model = unet(post_processing=False, levels=7,metrics=[Recall(), Precision()])\n",
    "  model.fit(train_gen, epochs=EPOCHS, validation_data=valid_cropped, steps_per_epoch=STEPS_PER_EPOCH,callbacks = callbacks)\n",
    "  print('Saving ...')\n",
    "  model.save(f'./models/Level7/model_lvl7.h5')\n",
    "\n",
    "\n",
    "  return;\n",
    "\n",
    "##Uncomment if you want to create new models\n",
    "\n",
    "#p = Process(target=evaluate_model, args=(i,sys.stdout))\n",
    "#p.start()\n",
    "#p.join()\n",
    "#K.clear_session()"
   ]
  },
  {
   "cell_type": "markdown",
   "metadata": {
    "id": "nts4542oBcu-"
   },
   "source": [
    "## Loading already computed model"
   ]
  },
  {
   "cell_type": "code",
   "execution_count": null,
   "metadata": {
    "id": "QVE3DYVwspww"
   },
   "outputs": [],
   "source": [
    "model = keras.models.load_model('./models/Level7/model_05_notebook.h5')"
   ]
  },
  {
   "cell_type": "markdown",
   "metadata": {
    "id": "fpRUMTV_ee7c"
   },
   "source": [
    "## Find best threshold on train set"
   ]
  },
  {
   "cell_type": "code",
   "execution_count": null,
   "metadata": {
    "colab": {
     "base_uri": "https://localhost:8080/",
     "height": 17,
     "referenced_widgets": [
      "e0212facb3aa4f3ebfa0d88306b09f34",
      "4fff5703100c475a967b1972a7dd3a06",
      "1e75e6a3d91d433387331e2a83b08234",
      "f19890b19fbb4faa89049e6714b27a4f",
      "951cfe0242da4068bdbde6a80e043146",
      "7bf3755e5b9b490d921bf5594fe4f190",
      "c27ea4372f0f4beb8a6d020f9a4a391c",
      "01f23e2a413b4931bc0048dfea61b4e1"
     ]
    },
    "executionInfo": {
     "elapsed": 296191,
     "status": "ok",
     "timestamp": 1608140397910,
     "user": {
      "displayName": "Léopaul Boesinger",
      "photoUrl": "https://lh3.googleusercontent.com/a-/AOh14Gi4_P8pt4nEkg5SDvj_LKQg6USQ3BURlNSgzwnntg=s64",
      "userId": "00279568373774071864"
     },
     "user_tz": -60
    },
    "id": "v4_LiqJ3ehia",
    "outputId": "f603a0a5-8f1d-4a57-fd04-844aadba24d5"
   },
   "outputs": [
    {
     "data": {
      "application/vnd.jupyter.widget-view+json": {
       "model_id": "e0212facb3aa4f3ebfa0d88306b09f34",
       "version_major": 2,
       "version_minor": 0
      },
      "text/plain": [
       "HBox(children=(FloatProgress(value=0.0, max=80.0), HTML(value='')))"
      ]
     },
     "metadata": {
      "tags": []
     },
     "output_type": "display_data"
    },
    {
     "name": "stdout",
     "output_type": "stream",
     "text": [
      "\r"
     ]
    }
   ],
   "source": [
    "THRESHOLDS = [(x,create_vanilla_threshold(x)) for x in np.linspace(0.1*255,0.7*255,num=20)]\n",
    "train_predictions = [predict_from_image_rotated(model, x, stride=72, rotations=[0,90,180,270], pad=False) for x in tqdm(train_x,leave=False)]\n",
    "best_func, best_thresh, best_score = select_best_threshold(THRESHOLDS, train_predictions, train_y)\n",
    "best_thresh, best_score"
   ]
  },
  {
   "cell_type": "markdown",
   "metadata": {
    "id": "pqmVyG_cqvqf"
   },
   "source": [
    "## Validation results"
   ]
  },
  {
   "cell_type": "code",
   "execution_count": null,
   "metadata": {
    "colab": {
     "base_uri": "https://localhost:8080/",
     "height": 34,
     "referenced_widgets": [
      "1bdf140220a64c198a5602b1ca51607d",
      "a39be675ff2b4d19be88733a7c597169",
      "17cb254de6c44c6981e1ad88240fdccb",
      "da862e4671994db3a34e891f078291d3",
      "8bfd5c0f609b4f3c814aff46c6f5c4c1",
      "452842d24a904984b25ff9030a017f8f",
      "7c867d1099c64a919f9322450dc9faf6",
      "97c891c05b2b44fb8b1a3e1b86ec54c3"
     ]
    },
    "executionInfo": {
     "elapsed": 227096,
     "status": "ok",
     "timestamp": 1608141405216,
     "user": {
      "displayName": "Léopaul Boesinger",
      "photoUrl": "https://lh3.googleusercontent.com/a-/AOh14Gi4_P8pt4nEkg5SDvj_LKQg6USQ3BURlNSgzwnntg=s64",
      "userId": "00279568373774071864"
     },
     "user_tz": -60
    },
    "id": "JkNx_r3Lqyp0",
    "outputId": "b3fa8cd9-a1f2-4d71-aab4-6bc467562c51"
   },
   "outputs": [
    {
     "data": {
      "application/vnd.jupyter.widget-view+json": {
       "model_id": "1bdf140220a64c198a5602b1ca51607d",
       "version_major": 2,
       "version_minor": 0
      },
      "text/plain": [
       "HBox(children=(FloatProgress(value=0.0, max=96.0), HTML(value='')))"
      ]
     },
     "metadata": {
      "tags": []
     },
     "output_type": "display_data"
    },
    {
     "name": "stdout",
     "output_type": "stream",
     "text": [
      "\r"
     ]
    },
    {
     "data": {
      "text/plain": [
       "0.8902503015622236"
      ]
     },
     "execution_count": 27,
     "metadata": {
      "tags": []
     },
     "output_type": "execute_result"
    }
   ],
   "source": [
    "valid_predictions = [predict_from_image_rotated(model, x, stride=72, rotations=[0,90,180,270], pad=False) for x in tqdm(new_x,leave=False)]\n",
    "compute_score_thresholded(best_func, valid_predictions, new_y)"
   ]
  },
  {
   "cell_type": "markdown",
   "metadata": {
    "id": "W9VJzEQyBjlh"
   },
   "source": [
    "# Loading test data and predicting"
   ]
  },
  {
   "cell_type": "code",
   "execution_count": null,
   "metadata": {
    "colab": {
     "base_uri": "https://localhost:8080/",
     "height": 66,
     "referenced_widgets": [
      "651e5bffd2cf4b2b9c99f11711cba227",
      "bdc0f7fabf544f55a278b26172a223ff",
      "19b2a3b0790543f8b31ad7d4208f59fd",
      "34395f46ff2e414c8c2a9b9a133df80c",
      "4144dc418e01491089e9383d6499ad2f",
      "01d96f52f61a400fbe7631b3ab1feacb",
      "bbf59f6b7fb14014a2fa6129868c1809",
      "d6efa4dbe6ec4f1caf8d7fc97d660163"
     ]
    },
    "executionInfo": {
     "elapsed": 248032,
     "status": "ok",
     "timestamp": 1608140095194,
     "user": {
      "displayName": "Léopaul Boesinger",
      "photoUrl": "https://lh3.googleusercontent.com/a-/AOh14Gi4_P8pt4nEkg5SDvj_LKQg6USQ3BURlNSgzwnntg=s64",
      "userId": "00279568373774071864"
     },
     "user_tz": -60
    },
    "id": "_NSvQWm4kpmn",
    "outputId": "8a4a5a6b-8d14-48d9-c22d-aa98be95414f"
   },
   "outputs": [
    {
     "name": "stdout",
     "output_type": "stream",
     "text": [
      "Found 50 images belonging to 50 classes.\n"
     ]
    },
    {
     "data": {
      "application/vnd.jupyter.widget-view+json": {
       "model_id": "651e5bffd2cf4b2b9c99f11711cba227",
       "version_major": 2,
       "version_minor": 0
      },
      "text/plain": [
       "HBox(children=(FloatProgress(value=0.0, max=50.0), HTML(value='')))"
      ]
     },
     "metadata": {
      "tags": []
     },
     "output_type": "display_data"
    },
    {
     "name": "stdout",
     "output_type": "stream",
     "text": [
      "\r"
     ]
    }
   ],
   "source": [
    "from libs.submission import *\n",
    "\n",
    "test_dir = \"./test_set_images/\"\n",
    "\n",
    "#Load test images\n",
    "test_imgs = load_test_images(test_dir)\n",
    "predictions = [predict_from_image_rotated(model, x, stride=32, rotations=[0,90,180,270], pad=False) for x in tqdm(test_imgs,leave=False)]"
   ]
  },
  {
   "cell_type": "markdown",
   "metadata": {
    "id": "vYxAltOucqsh"
   },
   "source": [
    "## Postprocess"
   ]
  },
  {
   "cell_type": "code",
   "execution_count": null,
   "metadata": {
    "colab": {
     "base_uri": "https://localhost:8080/",
     "height": 17,
     "referenced_widgets": [
      "94e6394f5ccb4274a75743c57fc35362",
      "d4d00c359c364650a36cce9659c5b437",
      "9c1ed70eaa66433eb1bac08d455f993b",
      "dd5ebe35a2d34c18b1c4a6376e37c836",
      "0d122259244f46f991eecac657e07928",
      "7bd9320620944631a5ce59d7d14a24b5",
      "5c58e06c1b7f46ce979a8f3b2c6b9678",
      "9bfbc29c448e4c969bde76628c8f6a0a"
     ]
    },
    "executionInfo": {
     "elapsed": 521,
     "status": "ok",
     "timestamp": 1608140445809,
     "user": {
      "displayName": "Léopaul Boesinger",
      "photoUrl": "https://lh3.googleusercontent.com/a-/AOh14Gi4_P8pt4nEkg5SDvj_LKQg6USQ3BURlNSgzwnntg=s64",
      "userId": "00279568373774071864"
     },
     "user_tz": -60
    },
    "id": "sSDajbxMcMeu",
    "outputId": "fc5682d7-2fc8-4c53-db72-7d7aadcbc156"
   },
   "outputs": [
    {
     "data": {
      "application/vnd.jupyter.widget-view+json": {
       "model_id": "94e6394f5ccb4274a75743c57fc35362",
       "version_major": 2,
       "version_minor": 0
      },
      "text/plain": [
       "HBox(children=(FloatProgress(value=0.0, max=50.0), HTML(value='')))"
      ]
     },
     "metadata": {
      "tags": []
     },
     "output_type": "display_data"
    },
    {
     "name": "stdout",
     "output_type": "stream",
     "text": [
      "\r"
     ]
    }
   ],
   "source": [
    "thresholded = [(best_func(x)).astype(int)*255 for x in tqdm(predictions,leave=False)]"
   ]
  },
  {
   "cell_type": "markdown",
   "metadata": {
    "id": "IWJytahscoyK"
   },
   "source": [
    "## Create submission"
   ]
  },
  {
   "cell_type": "code",
   "execution_count": null,
   "metadata": {
    "id": "OcyjlrZ0pGR6"
   },
   "outputs": [],
   "source": [
    "#Save images in folder\n",
    "!mkdir level7-preds\n",
    "save_predictions_to_folder(\"./test_predictions/level7-preds/\", thresholded)"
   ]
  },
  {
   "cell_type": "code",
   "execution_count": null,
   "metadata": {
    "id": "EEdyoUCXcLk7"
   },
   "outputs": [],
   "source": [
    "#Use images saved in folder to create submission\n",
    "create_submission(\"./test_predictions/level7-preds/\", \"./submissions/level7_submission.csv\")"
   ]
  },
  {
   "cell_type": "markdown",
   "metadata": {
    "id": "txL3xfxxVaYG"
   },
   "source": [
    "## Visualize submission"
   ]
  },
  {
   "cell_type": "code",
   "execution_count": null,
   "metadata": {
    "colab": {
     "base_uri": "https://localhost:8080/",
     "height": 595
    },
    "executionInfo": {
     "elapsed": 9663,
     "status": "ok",
     "timestamp": 1608140676421,
     "user": {
      "displayName": "Léopaul Boesinger",
      "photoUrl": "https://lh3.googleusercontent.com/a-/AOh14Gi4_P8pt4nEkg5SDvj_LKQg6USQ3BURlNSgzwnntg=s64",
      "userId": "00279568373774071864"
     },
     "user_tz": -60
    },
    "id": "zQNAEdHUVDSz",
    "outputId": "b75396ee-bd6e-4d48-d3e3-0ec0981a3cbf"
   },
   "outputs": [
    {
     "data": {
      "image/png": "[encoded data removed]",
      "text/plain": [
       "<Figure size 1440x720 with 50 Axes>"
      ]
     },
     "metadata": {
      "needs_background": "light",
      "tags": []
     },
     "output_type": "display_data"
    }
   ],
   "source": [
    "plot_submission('./submissions/level7_submission.csv')"
   ]
  }
 ],
 "metadata": {
  "accelerator": "GPU",
  "colab": {
   "collapsed_sections": [],
   "name": "Level7.ipynb",
   "provenance": [
    {
     "file_id": "16jre4lLv6jjmc3zWtkjUfsJ2_BS1fVid",
     "timestamp": 1606140227471
    },
    {
     "file_id": "1jSqi2iLIvHmaeiFnIxDfsT18bOC480vY",
     "timestamp": 1606064290719
    }
   ],
   "toc_visible": true
  },
  "kernelspec": {
   "display_name": "Python 3",
   "language": "python",
   "name": "python3"
  },
  "language_info": {
   "codemirror_mode": {
    "name": "ipython",
    "version": 3
   },
   "file_extension": ".py",
   "mimetype": "text/x-python",
   "name": "python",
   "nbconvert_exporter": "python",
   "pygments_lexer": "ipython3",
   "version": "3.8.5"
  },
  "widgets": {
   "application/vnd.jupyter.widget-state+json": {
    "01d96f52f61a400fbe7631b3ab1feacb": {
     "model_module": "@jupyter-widgets/base",
     "model_name": "LayoutModel",
     "state": {
      "_model_module": "@jupyter-widgets/base",
      "_model_module_version": "1.2.0",
      "_model_name": "LayoutModel",
      "_view_count": null,
      "_view_module": "@jupyter-widgets/base",
      "_view_module_version": "1.2.0",
      "_view_name": "LayoutView",
      "align_content": null,
      "align_items": null,
      "align_self": null,
      "border": null,
      "bottom": null,
      "display": null,
      "flex": null,
      "flex_flow": null,
      "grid_area": null,
      "grid_auto_columns": null,
      "grid_auto_flow": null,
      "grid_auto_rows": null,
      "grid_column": null,
      "grid_gap": null,
      "grid_row": null,
      "grid_template_areas": null,
      "grid_template_columns": null,
      "grid_template_rows": null,
      "height": null,
      "justify_content": null,
      "justify_items": null,
      "left": null,
      "margin": null,
      "max_height": null,
      "max_width": null,
      "min_height": null,
      "min_width": null,
      "object_fit": null,
      "object_position": null,
      "order": null,
      "overflow": null,
      "overflow_x": null,
      "overflow_y": null,
      "padding": null,
      "right": null,
      "top": null,
      "visibility": null,
      "width": null
     }
    },
    "01f23e2a413b4931bc0048dfea61b4e1": {
     "model_module": "@jupyter-widgets/base",
     "model_name": "LayoutModel",
     "state": {
      "_model_module": "@jupyter-widgets/base",
      "_model_module_version": "1.2.0",
      "_model_name": "LayoutModel",
      "_view_count": null,
      "_view_module": "@jupyter-widgets/base",
      "_view_module_version": "1.2.0",
      "_view_name": "LayoutView",
      "align_content": null,
      "align_items": null,
      "align_self": null,
      "border": null,
      "bottom": null,
      "display": null,
      "flex": null,
      "flex_flow": null,
      "grid_area": null,
      "grid_auto_columns": null,
      "grid_auto_flow": null,
      "grid_auto_rows": null,
      "grid_column": null,
      "grid_gap": null,
      "grid_row": null,
      "grid_template_areas": null,
      "grid_template_columns": null,
      "grid_template_rows": null,
      "height": null,
      "justify_content": null,
      "justify_items": null,
      "left": null,
      "margin": null,
      "max_height": null,
      "max_width": null,
      "min_height": null,
      "min_width": null,
      "object_fit": null,
      "object_position": null,
      "order": null,
      "overflow": null,
      "overflow_x": null,
      "overflow_y": null,
      "padding": null,
      "right": null,
      "top": null,
      "visibility": null,
      "width": null
     }
    },
    "0d122259244f46f991eecac657e07928": {
     "model_module": "@jupyter-widgets/controls",
     "model_name": "ProgressStyleModel",
     "state": {
      "_model_module": "@jupyter-widgets/controls",
      "_model_module_version": "1.5.0",
      "_model_name": "ProgressStyleModel",
      "_view_count": null,
      "_view_module": "@jupyter-widgets/base",
      "_view_module_version": "1.2.0",
      "_view_name": "StyleView",
      "bar_color": null,
      "description_width": "initial"
     }
    },
    "17cb254de6c44c6981e1ad88240fdccb": {
     "model_module": "@jupyter-widgets/controls",
     "model_name": "FloatProgressModel",
     "state": {
      "_dom_classes": [],
      "_model_module": "@jupyter-widgets/controls",
      "_model_module_version": "1.5.0",
      "_model_name": "FloatProgressModel",
      "_view_count": null,
      "_view_module": "@jupyter-widgets/controls",
      "_view_module_version": "1.5.0",
      "_view_name": "ProgressView",
      "bar_style": "",
      "description": "100%",
      "description_tooltip": null,
      "layout": "IPY_MODEL_452842d24a904984b25ff9030a017f8f",
      "max": 96,
      "min": 0,
      "orientation": "horizontal",
      "style": "IPY_MODEL_8bfd5c0f609b4f3c814aff46c6f5c4c1",
      "value": 96
     }
    },
    "19b2a3b0790543f8b31ad7d4208f59fd": {
     "model_module": "@jupyter-widgets/controls",
     "model_name": "FloatProgressModel",
     "state": {
      "_dom_classes": [],
      "_model_module": "@jupyter-widgets/controls",
      "_model_module_version": "1.5.0",
      "_model_name": "FloatProgressModel",
      "_view_count": null,
      "_view_module": "@jupyter-widgets/controls",
      "_view_module_version": "1.5.0",
      "_view_name": "ProgressView",
      "bar_style": "",
      "description": "100%",
      "description_tooltip": null,
      "layout": "IPY_MODEL_01d96f52f61a400fbe7631b3ab1feacb",
      "max": 50,
      "min": 0,
      "orientation": "horizontal",
      "style": "IPY_MODEL_4144dc418e01491089e9383d6499ad2f",
      "value": 50
     }
    },
    "1bdf140220a64c198a5602b1ca51607d": {
     "model_module": "@jupyter-widgets/controls",
     "model_name": "HBoxModel",
     "state": {
      "_dom_classes": [],
      "_model_module": "@jupyter-widgets/controls",
      "_model_module_version": "1.5.0",
      "_model_name": "HBoxModel",
      "_view_count": null,
      "_view_module": "@jupyter-widgets/controls",
      "_view_module_version": "1.5.0",
      "_view_name": "HBoxView",
      "box_style": "",
      "children": [
       "IPY_MODEL_17cb254de6c44c6981e1ad88240fdccb",
       "IPY_MODEL_da862e4671994db3a34e891f078291d3"
      ],
      "layout": "IPY_MODEL_a39be675ff2b4d19be88733a7c597169"
     }
    },
    "1e75e6a3d91d433387331e2a83b08234": {
     "model_module": "@jupyter-widgets/controls",
     "model_name": "FloatProgressModel",
     "state": {
      "_dom_classes": [],
      "_model_module": "@jupyter-widgets/controls",
      "_model_module_version": "1.5.0",
      "_model_name": "FloatProgressModel",
      "_view_count": null,
      "_view_module": "@jupyter-widgets/controls",
      "_view_module_version": "1.5.0",
      "_view_name": "ProgressView",
      "bar_style": "",
      "description": "100%",
      "description_tooltip": null,
      "layout": "IPY_MODEL_7bf3755e5b9b490d921bf5594fe4f190",
      "max": 80,
      "min": 0,
      "orientation": "horizontal",
      "style": "IPY_MODEL_951cfe0242da4068bdbde6a80e043146",
      "value": 80
     }
    },
    "34395f46ff2e414c8c2a9b9a133df80c": {
     "model_module": "@jupyter-widgets/controls",
     "model_name": "HTMLModel",
     "state": {
      "_dom_classes": [],
      "_model_module": "@jupyter-widgets/controls",
      "_model_module_version": "1.5.0",
      "_model_name": "HTMLModel",
      "_view_count": null,
      "_view_module": "@jupyter-widgets/controls",
      "_view_module_version": "1.5.0",
      "_view_name": "HTMLView",
      "description": "",
      "description_tooltip": null,
      "layout": "IPY_MODEL_d6efa4dbe6ec4f1caf8d7fc97d660163",
      "placeholder": "​",
      "style": "IPY_MODEL_bbf59f6b7fb14014a2fa6129868c1809",
      "value": " 50/50 [03:51&lt;00:00,  4.42s/it]"
     }
    },
    "4144dc418e01491089e9383d6499ad2f": {
     "model_module": "@jupyter-widgets/controls",
     "model_name": "ProgressStyleModel",
     "state": {
      "_model_module": "@jupyter-widgets/controls",
      "_model_module_version": "1.5.0",
      "_model_name": "ProgressStyleModel",
      "_view_count": null,
      "_view_module": "@jupyter-widgets/base",
      "_view_module_version": "1.2.0",
      "_view_name": "StyleView",
      "bar_color": null,
      "description_width": "initial"
     }
    },
    "452842d24a904984b25ff9030a017f8f": {
     "model_module": "@jupyter-widgets/base",
     "model_name": "LayoutModel",
     "state": {
      "_model_module": "@jupyter-widgets/base",
      "_model_module_version": "1.2.0",
      "_model_name": "LayoutModel",
      "_view_count": null,
      "_view_module": "@jupyter-widgets/base",
      "_view_module_version": "1.2.0",
      "_view_name": "LayoutView",
      "align_content": null,
      "align_items": null,
      "align_self": null,
      "border": null,
      "bottom": null,
      "display": null,
      "flex": null,
      "flex_flow": null,
      "grid_area": null,
      "grid_auto_columns": null,
      "grid_auto_flow": null,
      "grid_auto_rows": null,
      "grid_column": null,
      "grid_gap": null,
      "grid_row": null,
      "grid_template_areas": null,
      "grid_template_columns": null,
      "grid_template_rows": null,
      "height": null,
      "justify_content": null,
      "justify_items": null,
      "left": null,
      "margin": null,
      "max_height": null,
      "max_width": null,
      "min_height": null,
      "min_width": null,
      "object_fit": null,
      "object_position": null,
      "order": null,
      "overflow": null,
      "overflow_x": null,
      "overflow_y": null,
      "padding": null,
      "right": null,
      "top": null,
      "visibility": null,
      "width": null
     }
    },
    "4fff5703100c475a967b1972a7dd3a06": {
     "model_module": "@jupyter-widgets/base",
     "model_name": "LayoutModel",
     "state": {
      "_model_module": "@jupyter-widgets/base",
      "_model_module_version": "1.2.0",
      "_model_name": "LayoutModel",
      "_view_count": null,
      "_view_module": "@jupyter-widgets/base",
      "_view_module_version": "1.2.0",
      "_view_name": "LayoutView",
      "align_content": null,
      "align_items": null,
      "align_self": null,
      "border": null,
      "bottom": null,
      "display": null,
      "flex": null,
      "flex_flow": null,
      "grid_area": null,
      "grid_auto_columns": null,
      "grid_auto_flow": null,
      "grid_auto_rows": null,
      "grid_column": null,
      "grid_gap": null,
      "grid_row": null,
      "grid_template_areas": null,
      "grid_template_columns": null,
      "grid_template_rows": null,
      "height": null,
      "justify_content": null,
      "justify_items": null,
      "left": null,
      "margin": null,
      "max_height": null,
      "max_width": null,
      "min_height": null,
      "min_width": null,
      "object_fit": null,
      "object_position": null,
      "order": null,
      "overflow": null,
      "overflow_x": null,
      "overflow_y": null,
      "padding": null,
      "right": null,
      "top": null,
      "visibility": null,
      "width": null
     }
    },
    "5c58e06c1b7f46ce979a8f3b2c6b9678": {
     "model_module": "@jupyter-widgets/controls",
     "model_name": "DescriptionStyleModel",
     "state": {
      "_model_module": "@jupyter-widgets/controls",
      "_model_module_version": "1.5.0",
      "_model_name": "DescriptionStyleModel",
      "_view_count": null,
      "_view_module": "@jupyter-widgets/base",
      "_view_module_version": "1.2.0",
      "_view_name": "StyleView",
      "description_width": ""
     }
    },
    "651e5bffd2cf4b2b9c99f11711cba227": {
     "model_module": "@jupyter-widgets/controls",
     "model_name": "HBoxModel",
     "state": {
      "_dom_classes": [],
      "_model_module": "@jupyter-widgets/controls",
      "_model_module_version": "1.5.0",
      "_model_name": "HBoxModel",
      "_view_count": null,
      "_view_module": "@jupyter-widgets/controls",
      "_view_module_version": "1.5.0",
      "_view_name": "HBoxView",
      "box_style": "",
      "children": [
       "IPY_MODEL_19b2a3b0790543f8b31ad7d4208f59fd",
       "IPY_MODEL_34395f46ff2e414c8c2a9b9a133df80c"
      ],
      "layout": "IPY_MODEL_bdc0f7fabf544f55a278b26172a223ff"
     }
    },
    "7bd9320620944631a5ce59d7d14a24b5": {
     "model_module": "@jupyter-widgets/base",
     "model_name": "LayoutModel",
     "state": {
      "_model_module": "@jupyter-widgets/base",
      "_model_module_version": "1.2.0",
      "_model_name": "LayoutModel",
      "_view_count": null,
      "_view_module": "@jupyter-widgets/base",
      "_view_module_version": "1.2.0",
      "_view_name": "LayoutView",
      "align_content": null,
      "align_items": null,
      "align_self": null,
      "border": null,
      "bottom": null,
      "display": null,
      "flex": null,
      "flex_flow": null,
      "grid_area": null,
      "grid_auto_columns": null,
      "grid_auto_flow": null,
      "grid_auto_rows": null,
      "grid_column": null,
      "grid_gap": null,
      "grid_row": null,
      "grid_template_areas": null,
      "grid_template_columns": null,
      "grid_template_rows": null,
      "height": null,
      "justify_content": null,
      "justify_items": null,
      "left": null,
      "margin": null,
      "max_height": null,
      "max_width": null,
      "min_height": null,
      "min_width": null,
      "object_fit": null,
      "object_position": null,
      "order": null,
      "overflow": null,
      "overflow_x": null,
      "overflow_y": null,
      "padding": null,
      "right": null,
      "top": null,
      "visibility": null,
      "width": null
     }
    },
    "7bf3755e5b9b490d921bf5594fe4f190": {
     "model_module": "@jupyter-widgets/base",
     "model_name": "LayoutModel",
     "state": {
      "_model_module": "@jupyter-widgets/base",
      "_model_module_version": "1.2.0",
      "_model_name": "LayoutModel",
      "_view_count": null,
      "_view_module": "@jupyter-widgets/base",
      "_view_module_version": "1.2.0",
      "_view_name": "LayoutView",
      "align_content": null,
      "align_items": null,
      "align_self": null,
      "border": null,
      "bottom": null,
      "display": null,
      "flex": null,
      "flex_flow": null,
      "grid_area": null,
      "grid_auto_columns": null,
      "grid_auto_flow": null,
      "grid_auto_rows": null,
      "grid_column": null,
      "grid_gap": null,
      "grid_row": null,
      "grid_template_areas": null,
      "grid_template_columns": null,
      "grid_template_rows": null,
      "height": null,
      "justify_content": null,
      "justify_items": null,
      "left": null,
      "margin": null,
      "max_height": null,
      "max_width": null,
      "min_height": null,
      "min_width": null,
      "object_fit": null,
      "object_position": null,
      "order": null,
      "overflow": null,
      "overflow_x": null,
      "overflow_y": null,
      "padding": null,
      "right": null,
      "top": null,
      "visibility": null,
      "width": null
     }
    },
    "7c867d1099c64a919f9322450dc9faf6": {
     "model_module": "@jupyter-widgets/controls",
     "model_name": "DescriptionStyleModel",
     "state": {
      "_model_module": "@jupyter-widgets/controls",
      "_model_module_version": "1.5.0",
      "_model_name": "DescriptionStyleModel",
      "_view_count": null,
      "_view_module": "@jupyter-widgets/base",
      "_view_module_version": "1.2.0",
      "_view_name": "StyleView",
      "description_width": ""
     }
    },
    "8bfd5c0f609b4f3c814aff46c6f5c4c1": {
     "model_module": "@jupyter-widgets/controls",
     "model_name": "ProgressStyleModel",
     "state": {
      "_model_module": "@jupyter-widgets/controls",
      "_model_module_version": "1.5.0",
      "_model_name": "ProgressStyleModel",
      "_view_count": null,
      "_view_module": "@jupyter-widgets/base",
      "_view_module_version": "1.2.0",
      "_view_name": "StyleView",
      "bar_color": null,
      "description_width": "initial"
     }
    },
    "94e6394f5ccb4274a75743c57fc35362": {
     "model_module": "@jupyter-widgets/controls",
     "model_name": "HBoxModel",
     "state": {
      "_dom_classes": [],
      "_model_module": "@jupyter-widgets/controls",
      "_model_module_version": "1.5.0",
      "_model_name": "HBoxModel",
      "_view_count": null,
      "_view_module": "@jupyter-widgets/controls",
      "_view_module_version": "1.5.0",
      "_view_name": "HBoxView",
      "box_style": "",
      "children": [
       "IPY_MODEL_9c1ed70eaa66433eb1bac08d455f993b",
       "IPY_MODEL_dd5ebe35a2d34c18b1c4a6376e37c836"
      ],
      "layout": "IPY_MODEL_d4d00c359c364650a36cce9659c5b437"
     }
    },
    "951cfe0242da4068bdbde6a80e043146": {
     "model_module": "@jupyter-widgets/controls",
     "model_name": "ProgressStyleModel",
     "state": {
      "_model_module": "@jupyter-widgets/controls",
      "_model_module_version": "1.5.0",
      "_model_name": "ProgressStyleModel",
      "_view_count": null,
      "_view_module": "@jupyter-widgets/base",
      "_view_module_version": "1.2.0",
      "_view_name": "StyleView",
      "bar_color": null,
      "description_width": "initial"
     }
    },
    "97c891c05b2b44fb8b1a3e1b86ec54c3": {
     "model_module": "@jupyter-widgets/base",
     "model_name": "LayoutModel",
     "state": {
      "_model_module": "@jupyter-widgets/base",
      "_model_module_version": "1.2.0",
      "_model_name": "LayoutModel",
      "_view_count": null,
      "_view_module": "@jupyter-widgets/base",
      "_view_module_version": "1.2.0",
      "_view_name": "LayoutView",
      "align_content": null,
      "align_items": null,
      "align_self": null,
      "border": null,
      "bottom": null,
      "display": null,
      "flex": null,
      "flex_flow": null,
      "grid_area": null,
      "grid_auto_columns": null,
      "grid_auto_flow": null,
      "grid_auto_rows": null,
      "grid_column": null,
      "grid_gap": null,
      "grid_row": null,
      "grid_template_areas": null,
      "grid_template_columns": null,
      "grid_template_rows": null,
      "height": null,
      "justify_content": null,
      "justify_items": null,
      "left": null,
      "margin": null,
      "max_height": null,
      "max_width": null,
      "min_height": null,
      "min_width": null,
      "object_fit": null,
      "object_position": null,
      "order": null,
      "overflow": null,
      "overflow_x": null,
      "overflow_y": null,
      "padding": null,
      "right": null,
      "top": null,
      "visibility": null,
      "width": null
     }
    },
    "9bfbc29c448e4c969bde76628c8f6a0a": {
     "model_module": "@jupyter-widgets/base",
     "model_name": "LayoutModel",
     "state": {
      "_model_module": "@jupyter-widgets/base",
      "_model_module_version": "1.2.0",
      "_model_name": "LayoutModel",
      "_view_count": null,
      "_view_module": "@jupyter-widgets/base",
      "_view_module_version": "1.2.0",
      "_view_name": "LayoutView",
      "align_content": null,
      "align_items": null,
      "align_self": null,
      "border": null,
      "bottom": null,
      "display": null,
      "flex": null,
      "flex_flow": null,
      "grid_area": null,
      "grid_auto_columns": null,
      "grid_auto_flow": null,
      "grid_auto_rows": null,
      "grid_column": null,
      "grid_gap": null,
      "grid_row": null,
      "grid_template_areas": null,
      "grid_template_columns": null,
      "grid_template_rows": null,
      "height": null,
      "justify_content": null,
      "justify_items": null,
      "left": null,
      "margin": null,
      "max_height": null,
      "max_width": null,
      "min_height": null,
      "min_width": null,
      "object_fit": null,
      "object_position": null,
      "order": null,
      "overflow": null,
      "overflow_x": null,
      "overflow_y": null,
      "padding": null,
      "right": null,
      "top": null,
      "visibility": null,
      "width": null
     }
    },
    "9c1ed70eaa66433eb1bac08d455f993b": {
     "model_module": "@jupyter-widgets/controls",
     "model_name": "FloatProgressModel",
     "state": {
      "_dom_classes": [],
      "_model_module": "@jupyter-widgets/controls",
      "_model_module_version": "1.5.0",
      "_model_name": "FloatProgressModel",
      "_view_count": null,
      "_view_module": "@jupyter-widgets/controls",
      "_view_module_version": "1.5.0",
      "_view_name": "ProgressView",
      "bar_style": "",
      "description": "100%",
      "description_tooltip": null,
      "layout": "IPY_MODEL_7bd9320620944631a5ce59d7d14a24b5",
      "max": 50,
      "min": 0,
      "orientation": "horizontal",
      "style": "IPY_MODEL_0d122259244f46f991eecac657e07928",
      "value": 50
     }
    },
    "a39be675ff2b4d19be88733a7c597169": {
     "model_module": "@jupyter-widgets/base",
     "model_name": "LayoutModel",
     "state": {
      "_model_module": "@jupyter-widgets/base",
      "_model_module_version": "1.2.0",
      "_model_name": "LayoutModel",
      "_view_count": null,
      "_view_module": "@jupyter-widgets/base",
      "_view_module_version": "1.2.0",
      "_view_name": "LayoutView",
      "align_content": null,
      "align_items": null,
      "align_self": null,
      "border": null,
      "bottom": null,
      "display": null,
      "flex": null,
      "flex_flow": null,
      "grid_area": null,
      "grid_auto_columns": null,
      "grid_auto_flow": null,
      "grid_auto_rows": null,
      "grid_column": null,
      "grid_gap": null,
      "grid_row": null,
      "grid_template_areas": null,
      "grid_template_columns": null,
      "grid_template_rows": null,
      "height": null,
      "justify_content": null,
      "justify_items": null,
      "left": null,
      "margin": null,
      "max_height": null,
      "max_width": null,
      "min_height": null,
      "min_width": null,
      "object_fit": null,
      "object_position": null,
      "order": null,
      "overflow": null,
      "overflow_x": null,
      "overflow_y": null,
      "padding": null,
      "right": null,
      "top": null,
      "visibility": null,
      "width": null
     }
    },
    "bbf59f6b7fb14014a2fa6129868c1809": {
     "model_module": "@jupyter-widgets/controls",
     "model_name": "DescriptionStyleModel",
     "state": {
      "_model_module": "@jupyter-widgets/controls",
      "_model_module_version": "1.5.0",
      "_model_name": "DescriptionStyleModel",
      "_view_count": null,
      "_view_module": "@jupyter-widgets/base",
      "_view_module_version": "1.2.0",
      "_view_name": "StyleView",
      "description_width": ""
     }
    },
    "bdc0f7fabf544f55a278b26172a223ff": {
     "model_module": "@jupyter-widgets/base",
     "model_name": "LayoutModel",
     "state": {
      "_model_module": "@jupyter-widgets/base",
      "_model_module_version": "1.2.0",
      "_model_name": "LayoutModel",
      "_view_count": null,
      "_view_module": "@jupyter-widgets/base",
      "_view_module_version": "1.2.0",
      "_view_name": "LayoutView",
      "align_content": null,
      "align_items": null,
      "align_self": null,
      "border": null,
      "bottom": null,
      "display": null,
      "flex": null,
      "flex_flow": null,
      "grid_area": null,
      "grid_auto_columns": null,
      "grid_auto_flow": null,
      "grid_auto_rows": null,
      "grid_column": null,
      "grid_gap": null,
      "grid_row": null,
      "grid_template_areas": null,
      "grid_template_columns": null,
      "grid_template_rows": null,
      "height": null,
      "justify_content": null,
      "justify_items": null,
      "left": null,
      "margin": null,
      "max_height": null,
      "max_width": null,
      "min_height": null,
      "min_width": null,
      "object_fit": null,
      "object_position": null,
      "order": null,
      "overflow": null,
      "overflow_x": null,
      "overflow_y": null,
      "padding": null,
      "right": null,
      "top": null,
      "visibility": null,
      "width": null
     }
    },
    "c27ea4372f0f4beb8a6d020f9a4a391c": {
     "model_module": "@jupyter-widgets/controls",
     "model_name": "DescriptionStyleModel",
     "state": {
      "_model_module": "@jupyter-widgets/controls",
      "_model_module_version": "1.5.0",
      "_model_name": "DescriptionStyleModel",
      "_view_count": null,
      "_view_module": "@jupyter-widgets/base",
      "_view_module_version": "1.2.0",
      "_view_name": "StyleView",
      "description_width": ""
     }
    },
    "d4d00c359c364650a36cce9659c5b437": {
     "model_module": "@jupyter-widgets/base",
     "model_name": "LayoutModel",
     "state": {
      "_model_module": "@jupyter-widgets/base",
      "_model_module_version": "1.2.0",
      "_model_name": "LayoutModel",
      "_view_count": null,
      "_view_module": "@jupyter-widgets/base",
      "_view_module_version": "1.2.0",
      "_view_name": "LayoutView",
      "align_content": null,
      "align_items": null,
      "align_self": null,
      "border": null,
      "bottom": null,
      "display": null,
      "flex": null,
      "flex_flow": null,
      "grid_area": null,
      "grid_auto_columns": null,
      "grid_auto_flow": null,
      "grid_auto_rows": null,
      "grid_column": null,
      "grid_gap": null,
      "grid_row": null,
      "grid_template_areas": null,
      "grid_template_columns": null,
      "grid_template_rows": null,
      "height": null,
      "justify_content": null,
      "justify_items": null,
      "left": null,
      "margin": null,
      "max_height": null,
      "max_width": null,
      "min_height": null,
      "min_width": null,
      "object_fit": null,
      "object_position": null,
      "order": null,
      "overflow": null,
      "overflow_x": null,
      "overflow_y": null,
      "padding": null,
      "right": null,
      "top": null,
      "visibility": null,
      "width": null
     }
    },
    "d6efa4dbe6ec4f1caf8d7fc97d660163": {
     "model_module": "@jupyter-widgets/base",
     "model_name": "LayoutModel",
     "state": {
      "_model_module": "@jupyter-widgets/base",
      "_model_module_version": "1.2.0",
      "_model_name": "LayoutModel",
      "_view_count": null,
      "_view_module": "@jupyter-widgets/base",
      "_view_module_version": "1.2.0",
      "_view_name": "LayoutView",
      "align_content": null,
      "align_items": null,
      "align_self": null,
      "border": null,
      "bottom": null,
      "display": null,
      "flex": null,
      "flex_flow": null,
      "grid_area": null,
      "grid_auto_columns": null,
      "grid_auto_flow": null,
      "grid_auto_rows": null,
      "grid_column": null,
      "grid_gap": null,
      "grid_row": null,
      "grid_template_areas": null,
      "grid_template_columns": null,
      "grid_template_rows": null,
      "height": null,
      "justify_content": null,
      "justify_items": null,
      "left": null,
      "margin": null,
      "max_height": null,
      "max_width": null,
      "min_height": null,
      "min_width": null,
      "object_fit": null,
      "object_position": null,
      "order": null,
      "overflow": null,
      "overflow_x": null,
      "overflow_y": null,
      "padding": null,
      "right": null,
      "top": null,
      "visibility": null,
      "width": null
     }
    },
    "da862e4671994db3a34e891f078291d3": {
     "model_module": "@jupyter-widgets/controls",
     "model_name": "HTMLModel",
     "state": {
      "_dom_classes": [],
      "_model_module": "@jupyter-widgets/controls",
      "_model_module_version": "1.5.0",
      "_model_name": "HTMLModel",
      "_view_count": null,
      "_view_module": "@jupyter-widgets/controls",
      "_view_module_version": "1.5.0",
      "_view_name": "HTMLView",
      "description": "",
      "description_tooltip": null,
      "layout": "IPY_MODEL_97c891c05b2b44fb8b1a3e1b86ec54c3",
      "placeholder": "​",
      "style": "IPY_MODEL_7c867d1099c64a919f9322450dc9faf6",
      "value": " 96/96 [03:40&lt;00:00,  2.34s/it]"
     }
    },
    "dd5ebe35a2d34c18b1c4a6376e37c836": {
     "model_module": "@jupyter-widgets/controls",
     "model_name": "HTMLModel",
     "state": {
      "_dom_classes": [],
      "_model_module": "@jupyter-widgets/controls",
      "_model_module_version": "1.5.0",
      "_model_name": "HTMLModel",
      "_view_count": null,
      "_view_module": "@jupyter-widgets/controls",
      "_view_module_version": "1.5.0",
      "_view_name": "HTMLView",
      "description": "",
      "description_tooltip": null,
      "layout": "IPY_MODEL_9bfbc29c448e4c969bde76628c8f6a0a",
      "placeholder": "​",
      "style": "IPY_MODEL_5c58e06c1b7f46ce979a8f3b2c6b9678",
      "value": " 50/50 [00:00&lt;00:00, 466.70it/s]"
     }
    },
    "e0212facb3aa4f3ebfa0d88306b09f34": {
     "model_module": "@jupyter-widgets/controls",
     "model_name": "HBoxModel",
     "state": {
      "_dom_classes": [],
      "_model_module": "@jupyter-widgets/controls",
      "_model_module_version": "1.5.0",
      "_model_name": "HBoxModel",
      "_view_count": null,
      "_view_module": "@jupyter-widgets/controls",
      "_view_module_version": "1.5.0",
      "_view_name": "HBoxView",
      "box_style": "",
      "children": [
       "IPY_MODEL_1e75e6a3d91d433387331e2a83b08234",
       "IPY_MODEL_f19890b19fbb4faa89049e6714b27a4f"
      ],
      "layout": "IPY_MODEL_4fff5703100c475a967b1972a7dd3a06"
     }
    },
    "f19890b19fbb4faa89049e6714b27a4f": {
     "model_module": "@jupyter-widgets/controls",
     "model_name": "HTMLModel",
     "state": {
      "_dom_classes": [],
      "_model_module": "@jupyter-widgets/controls",
      "_model_module_version": "1.5.0",
      "_model_name": "HTMLModel",
      "_view_count": null,
      "_view_module": "@jupyter-widgets/controls",
      "_view_module_version": "1.5.0",
      "_view_name": "HTMLView",
      "description": "",
      "description_tooltip": null,
      "layout": "IPY_MODEL_01f23e2a413b4931bc0048dfea61b4e1",
      "placeholder": "​",
      "style": "IPY_MODEL_c27ea4372f0f4beb8a6d020f9a4a391c",
      "value": " 80/80 [03:07&lt;00:00,  2.30s/it]"
     }
    }
   }
  }
 },
 "nbformat": 4,
 "nbformat_minor": 1
}
